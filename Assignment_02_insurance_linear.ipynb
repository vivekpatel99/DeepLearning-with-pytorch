{
  "cells": [
    {
      "cell_type": "markdown",
      "metadata": {
        "_cell_guid": "b1076dfc-b9ad-4769-8c92-a6c4dae69d19",
        "_uuid": "8f2839f25d086af736a60e9eeb907d3b93b6e0e5",
        "id": "CzazzXW0L3BU"
      },
      "source": [
        "# Insurance cost prediction using linear regression\n",
        "\n",
        "Make a submisson here: https://jovian.ai/learn/deep-learning-with-pytorch-zero-to-gans/assignment/assignment-2-train-your-first-model\n",
        "\n",
        "In this assignment we're going to use information like a person's age, sex, BMI, no. of children and smoking habit to predict the price of yearly medical bills. This kind of model is useful for insurance companies to determine the yearly insurance premium for a person. The dataset for this problem is taken from [Kaggle](https://www.kaggle.com/mirichoi0218/insurance).\n",
        "\n",
        "\n",
        "We will create a model with the following steps:\n",
        "1. Download and explore the dataset\n",
        "2. Prepare the dataset for training\n",
        "3. Create a linear regression model\n",
        "4. Train the model to fit the data\n",
        "5. Make predictions using the trained model\n",
        "\n",
        "\n",
        "This assignment builds upon the concepts from the first 2 lessons. It will help to review these Jupyter notebooks:\n",
        "- PyTorch basics: https://jovian.ai/aakashns/01-pytorch-basics\n",
        "- Linear Regression: https://jovian.ai/aakashns/02-linear-regression\n",
        "- Logistic Regression: https://jovian.ai/aakashns/03-logistic-regression\n",
        "- Linear regression (minimal): https://jovian.ai/aakashns/housing-linear-minimal\n",
        "- Logistic regression (minimal): https://jovian.ai/aakashns/mnist-logistic-minimal\n",
        "\n",
        "As you go through this notebook, you will find a **???** in certain places. Your job is to replace the **???** with appropriate code or values, to ensure that the notebook runs properly end-to-end . In some cases, you'll be required to choose some hyperparameters (learning rate, batch size etc.). Try to experiment with the hypeparameters to get the lowest loss.\n"
      ]
    },
    {
      "cell_type": "code",
      "execution_count": null,
      "metadata": {
        "colab": {
          "base_uri": "https://localhost:8080/"
        },
        "id": "gjslW5W6L3Bb",
        "outputId": "497711ba-d3a9-4027-d9ba-34cfb77ab9b3"
      },
      "outputs": [
        {
          "output_type": "stream",
          "name": "stdout",
          "text": [
            "Looking in indexes: https://pypi.org/simple, https://us-python.pkg.dev/colab-wheels/public/simple/\n",
            "Requirement already satisfied: jovian in /usr/local/lib/python3.8/dist-packages (0.2.45)\n",
            "Requirement already satisfied: click in /usr/local/lib/python3.8/dist-packages (from jovian) (7.1.2)\n",
            "Requirement already satisfied: requests in /usr/local/lib/python3.8/dist-packages (from jovian) (2.23.0)\n",
            "Requirement already satisfied: uuid in /usr/local/lib/python3.8/dist-packages (from jovian) (1.30)\n",
            "Requirement already satisfied: pyyaml in /usr/local/lib/python3.8/dist-packages (from jovian) (6.0)\n",
            "Requirement already satisfied: certifi>=2017.4.17 in /usr/local/lib/python3.8/dist-packages (from requests->jovian) (2022.9.24)\n",
            "Requirement already satisfied: idna<3,>=2.5 in /usr/local/lib/python3.8/dist-packages (from requests->jovian) (2.10)\n",
            "Requirement already satisfied: urllib3!=1.25.0,!=1.25.1,<1.26,>=1.21.1 in /usr/local/lib/python3.8/dist-packages (from requests->jovian) (1.24.3)\n",
            "Requirement already satisfied: chardet<4,>=3.0.2 in /usr/local/lib/python3.8/dist-packages (from requests->jovian) (3.0.4)\n"
          ]
        }
      ],
      "source": [
        "# Uncomment and run the appropriate command for your operating system, if required\n",
        "\n",
        "# Linux / Binder\n",
        "# !pip install numpy matplotlib pandas torch==1.7.0+cpu torchvision==0.8.1+cpu torchaudio==0.7.0 -f https://download.pytorch.org/whl/torch_stable.html\n",
        "\n",
        "# Windows\n",
        "# !pip install numpy matplotlib pandas torch==1.7.0+cpu torchvision==0.8.1+cpu torchaudio==0.7.0 -f https://download.pytorch.org/whl/torch_stable.html\n",
        "\n",
        "# MacOS\n",
        "# !pip install numpy matplotlib pandas torch torchvision torchaudio\n",
        "!pip install jovian"
      ]
    },
    {
      "cell_type": "code",
      "execution_count": null,
      "metadata": {
        "id": "aQKsx181L3Bd"
      },
      "outputs": [],
      "source": [
        "import torch\n",
        "import jovian\n",
        "import torchvision\n",
        "import torch.nn as nn\n",
        "import pandas as pd\n",
        "import matplotlib.pyplot as plt\n",
        "import torch.nn.functional as F\n",
        "from torchvision.datasets.utils import download_url\n",
        "from torch.utils.data import DataLoader, TensorDataset, random_split"
      ]
    },
    {
      "cell_type": "code",
      "execution_count": null,
      "metadata": {
        "id": "hxVamNd5L3Be"
      },
      "outputs": [],
      "source": [
        "project_name='02-insurance-linear-regression' # will be used by jovian.commit"
      ]
    },
    {
      "cell_type": "markdown",
      "metadata": {
        "id": "pUdGLa5VL3Be"
      },
      "source": [
        "## Step 1: Download and explore the data\n",
        "\n",
        "Let us begin by downloading the data. We'll use the `download_url` function from PyTorch to get the data as a CSV (comma-separated values) file. "
      ]
    },
    {
      "cell_type": "code",
      "execution_count": null,
      "metadata": {
        "_cell_guid": "79c7e3d0-c299-4dcb-8224-4455121ee9b0",
        "_uuid": "d629ff2d2480ee46fbb7e2d37f6b5fab8052498a",
        "colab": {
          "base_uri": "https://localhost:8080/"
        },
        "id": "I_bR5LI3L3Bf",
        "outputId": "976c7d64-1ed7-4fd7-88c8-61da693f54aa"
      },
      "outputs": [
        {
          "output_type": "stream",
          "name": "stdout",
          "text": [
            "Using downloaded and verified file: ./insurance.csv\n"
          ]
        }
      ],
      "source": [
        "DATASET_URL = \"https://gist.github.com/BirajCoder/5f068dfe759c1ea6bdfce9535acdb72d/raw/c84d84e3c80f93be67f6c069cbdc0195ec36acbd/insurance.csv\"\n",
        "DATA_FILENAME = \"insurance.csv\"\n",
        "download_url(DATASET_URL, '.')"
      ]
    },
    {
      "cell_type": "markdown",
      "metadata": {
        "id": "66VCUZKcL3Bg"
      },
      "source": [
        "To load the dataset into memory, we'll use the `read_csv` function from the `pandas` library. The data will be loaded as a Pandas dataframe. See this short tutorial to learn more: https://data36.com/pandas-tutorial-1-basics-reading-data-files-dataframes-data-selection/"
      ]
    },
    {
      "cell_type": "code",
      "execution_count": null,
      "metadata": {
        "colab": {
          "base_uri": "https://localhost:8080/",
          "height": 206
        },
        "id": "OqrSwbBML3Bh",
        "outputId": "4a3a6025-8fd3-4487-96c6-5511b664e2ed"
      },
      "outputs": [
        {
          "output_type": "execute_result",
          "data": {
            "text/plain": [
              "   age     sex     bmi  children smoker     region      charges\n",
              "0   19  female  27.900         0    yes  southwest  16884.92400\n",
              "1   18    male  33.770         1     no  southeast   1725.55230\n",
              "2   28    male  33.000         3     no  southeast   4449.46200\n",
              "3   33    male  22.705         0     no  northwest  21984.47061\n",
              "4   32    male  28.880         0     no  northwest   3866.85520"
            ],
            "text/html": [
              "\n",
              "  <div id=\"df-f4d1f0a1-f328-4f07-a16e-b55d3e8d1938\">\n",
              "    <div class=\"colab-df-container\">\n",
              "      <div>\n",
              "<style scoped>\n",
              "    .dataframe tbody tr th:only-of-type {\n",
              "        vertical-align: middle;\n",
              "    }\n",
              "\n",
              "    .dataframe tbody tr th {\n",
              "        vertical-align: top;\n",
              "    }\n",
              "\n",
              "    .dataframe thead th {\n",
              "        text-align: right;\n",
              "    }\n",
              "</style>\n",
              "<table border=\"1\" class=\"dataframe\">\n",
              "  <thead>\n",
              "    <tr style=\"text-align: right;\">\n",
              "      <th></th>\n",
              "      <th>age</th>\n",
              "      <th>sex</th>\n",
              "      <th>bmi</th>\n",
              "      <th>children</th>\n",
              "      <th>smoker</th>\n",
              "      <th>region</th>\n",
              "      <th>charges</th>\n",
              "    </tr>\n",
              "  </thead>\n",
              "  <tbody>\n",
              "    <tr>\n",
              "      <th>0</th>\n",
              "      <td>19</td>\n",
              "      <td>female</td>\n",
              "      <td>27.900</td>\n",
              "      <td>0</td>\n",
              "      <td>yes</td>\n",
              "      <td>southwest</td>\n",
              "      <td>16884.92400</td>\n",
              "    </tr>\n",
              "    <tr>\n",
              "      <th>1</th>\n",
              "      <td>18</td>\n",
              "      <td>male</td>\n",
              "      <td>33.770</td>\n",
              "      <td>1</td>\n",
              "      <td>no</td>\n",
              "      <td>southeast</td>\n",
              "      <td>1725.55230</td>\n",
              "    </tr>\n",
              "    <tr>\n",
              "      <th>2</th>\n",
              "      <td>28</td>\n",
              "      <td>male</td>\n",
              "      <td>33.000</td>\n",
              "      <td>3</td>\n",
              "      <td>no</td>\n",
              "      <td>southeast</td>\n",
              "      <td>4449.46200</td>\n",
              "    </tr>\n",
              "    <tr>\n",
              "      <th>3</th>\n",
              "      <td>33</td>\n",
              "      <td>male</td>\n",
              "      <td>22.705</td>\n",
              "      <td>0</td>\n",
              "      <td>no</td>\n",
              "      <td>northwest</td>\n",
              "      <td>21984.47061</td>\n",
              "    </tr>\n",
              "    <tr>\n",
              "      <th>4</th>\n",
              "      <td>32</td>\n",
              "      <td>male</td>\n",
              "      <td>28.880</td>\n",
              "      <td>0</td>\n",
              "      <td>no</td>\n",
              "      <td>northwest</td>\n",
              "      <td>3866.85520</td>\n",
              "    </tr>\n",
              "  </tbody>\n",
              "</table>\n",
              "</div>\n",
              "      <button class=\"colab-df-convert\" onclick=\"convertToInteractive('df-f4d1f0a1-f328-4f07-a16e-b55d3e8d1938')\"\n",
              "              title=\"Convert this dataframe to an interactive table.\"\n",
              "              style=\"display:none;\">\n",
              "        \n",
              "  <svg xmlns=\"http://www.w3.org/2000/svg\" height=\"24px\"viewBox=\"0 0 24 24\"\n",
              "       width=\"24px\">\n",
              "    <path d=\"M0 0h24v24H0V0z\" fill=\"none\"/>\n",
              "    <path d=\"M18.56 5.44l.94 2.06.94-2.06 2.06-.94-2.06-.94-.94-2.06-.94 2.06-2.06.94zm-11 1L8.5 8.5l.94-2.06 2.06-.94-2.06-.94L8.5 2.5l-.94 2.06-2.06.94zm10 10l.94 2.06.94-2.06 2.06-.94-2.06-.94-.94-2.06-.94 2.06-2.06.94z\"/><path d=\"M17.41 7.96l-1.37-1.37c-.4-.4-.92-.59-1.43-.59-.52 0-1.04.2-1.43.59L10.3 9.45l-7.72 7.72c-.78.78-.78 2.05 0 2.83L4 21.41c.39.39.9.59 1.41.59.51 0 1.02-.2 1.41-.59l7.78-7.78 2.81-2.81c.8-.78.8-2.07 0-2.86zM5.41 20L4 18.59l7.72-7.72 1.47 1.35L5.41 20z\"/>\n",
              "  </svg>\n",
              "      </button>\n",
              "      \n",
              "  <style>\n",
              "    .colab-df-container {\n",
              "      display:flex;\n",
              "      flex-wrap:wrap;\n",
              "      gap: 12px;\n",
              "    }\n",
              "\n",
              "    .colab-df-convert {\n",
              "      background-color: #E8F0FE;\n",
              "      border: none;\n",
              "      border-radius: 50%;\n",
              "      cursor: pointer;\n",
              "      display: none;\n",
              "      fill: #1967D2;\n",
              "      height: 32px;\n",
              "      padding: 0 0 0 0;\n",
              "      width: 32px;\n",
              "    }\n",
              "\n",
              "    .colab-df-convert:hover {\n",
              "      background-color: #E2EBFA;\n",
              "      box-shadow: 0px 1px 2px rgba(60, 64, 67, 0.3), 0px 1px 3px 1px rgba(60, 64, 67, 0.15);\n",
              "      fill: #174EA6;\n",
              "    }\n",
              "\n",
              "    [theme=dark] .colab-df-convert {\n",
              "      background-color: #3B4455;\n",
              "      fill: #D2E3FC;\n",
              "    }\n",
              "\n",
              "    [theme=dark] .colab-df-convert:hover {\n",
              "      background-color: #434B5C;\n",
              "      box-shadow: 0px 1px 3px 1px rgba(0, 0, 0, 0.15);\n",
              "      filter: drop-shadow(0px 1px 2px rgba(0, 0, 0, 0.3));\n",
              "      fill: #FFFFFF;\n",
              "    }\n",
              "  </style>\n",
              "\n",
              "      <script>\n",
              "        const buttonEl =\n",
              "          document.querySelector('#df-f4d1f0a1-f328-4f07-a16e-b55d3e8d1938 button.colab-df-convert');\n",
              "        buttonEl.style.display =\n",
              "          google.colab.kernel.accessAllowed ? 'block' : 'none';\n",
              "\n",
              "        async function convertToInteractive(key) {\n",
              "          const element = document.querySelector('#df-f4d1f0a1-f328-4f07-a16e-b55d3e8d1938');\n",
              "          const dataTable =\n",
              "            await google.colab.kernel.invokeFunction('convertToInteractive',\n",
              "                                                     [key], {});\n",
              "          if (!dataTable) return;\n",
              "\n",
              "          const docLinkHtml = 'Like what you see? Visit the ' +\n",
              "            '<a target=\"_blank\" href=https://colab.research.google.com/notebooks/data_table.ipynb>data table notebook</a>'\n",
              "            + ' to learn more about interactive tables.';\n",
              "          element.innerHTML = '';\n",
              "          dataTable['output_type'] = 'display_data';\n",
              "          await google.colab.output.renderOutput(dataTable, element);\n",
              "          const docLink = document.createElement('div');\n",
              "          docLink.innerHTML = docLinkHtml;\n",
              "          element.appendChild(docLink);\n",
              "        }\n",
              "      </script>\n",
              "    </div>\n",
              "  </div>\n",
              "  "
            ]
          },
          "metadata": {},
          "execution_count": 641
        }
      ],
      "source": [
        "dataframe_raw = pd.read_csv(DATA_FILENAME)\n",
        "dataframe_raw.head()"
      ]
    },
    {
      "cell_type": "markdown",
      "metadata": {
        "id": "LDjSs9cfL3Bi"
      },
      "source": [
        "We're going to do a slight customization of the data, so that you every participant receives a slightly different version of the dataset. Fill in your name below as a string (enter at least 5 characters)"
      ]
    },
    {
      "cell_type": "code",
      "execution_count": null,
      "metadata": {
        "id": "WXZJ_dh2L3Bi"
      },
      "outputs": [],
      "source": [
        "your_name = 'Vivek' # at least 5 characters"
      ]
    },
    {
      "cell_type": "markdown",
      "metadata": {
        "id": "S7Jow_FXL3Bj"
      },
      "source": [
        "The `customize_dataset` function will customize the dataset slightly using your name as a source of random numbers."
      ]
    },
    {
      "cell_type": "code",
      "execution_count": null,
      "metadata": {
        "id": "cZpkZC9IL3Bj"
      },
      "outputs": [],
      "source": [
        "def customize_dataset(dataframe_raw, rand_str):\n",
        "    dataframe = dataframe_raw.copy(deep=True)\n",
        "    # drop some rows\n",
        "    dataframe = dataframe.sample(int(0.95*len(dataframe)), random_state=int(ord(rand_str[0])))\n",
        "    # scale input\n",
        "    dataframe.bmi = dataframe.bmi * ord(rand_str[1])/100.\n",
        "    # scale target\n",
        "    dataframe.charges = dataframe.charges * ord(rand_str[2])/100.\n",
        "    # drop column\n",
        "    if ord(rand_str[3]) % 2 == 1:\n",
        "        dataframe = dataframe.drop(['region'], axis=1)\n",
        "    return dataframe"
      ]
    },
    {
      "cell_type": "code",
      "execution_count": null,
      "metadata": {
        "colab": {
          "base_uri": "https://localhost:8080/",
          "height": 206
        },
        "id": "YwQvWnbYL3Bj",
        "outputId": "6376e41c-5934-4dce-8151-81d65528cb7c"
      },
      "outputs": [
        {
          "output_type": "execute_result",
          "data": {
            "text/plain": [
              "      age     sex       bmi  children smoker       charges\n",
              "805    45  female  37.60575         0     no   9123.592263\n",
              "1173   38    male  30.72300         2     no   7620.255212\n",
              "0      19  female  29.29500         0    yes  19924.210320\n",
              "681    19    male  21.31500         0     no   1465.866800\n",
              "215    41  female  38.95500         2     no   8698.690960"
            ],
            "text/html": [
              "\n",
              "  <div id=\"df-1c7e02e7-3d7e-4bfb-9333-14aef25d1c18\">\n",
              "    <div class=\"colab-df-container\">\n",
              "      <div>\n",
              "<style scoped>\n",
              "    .dataframe tbody tr th:only-of-type {\n",
              "        vertical-align: middle;\n",
              "    }\n",
              "\n",
              "    .dataframe tbody tr th {\n",
              "        vertical-align: top;\n",
              "    }\n",
              "\n",
              "    .dataframe thead th {\n",
              "        text-align: right;\n",
              "    }\n",
              "</style>\n",
              "<table border=\"1\" class=\"dataframe\">\n",
              "  <thead>\n",
              "    <tr style=\"text-align: right;\">\n",
              "      <th></th>\n",
              "      <th>age</th>\n",
              "      <th>sex</th>\n",
              "      <th>bmi</th>\n",
              "      <th>children</th>\n",
              "      <th>smoker</th>\n",
              "      <th>charges</th>\n",
              "    </tr>\n",
              "  </thead>\n",
              "  <tbody>\n",
              "    <tr>\n",
              "      <th>805</th>\n",
              "      <td>45</td>\n",
              "      <td>female</td>\n",
              "      <td>37.60575</td>\n",
              "      <td>0</td>\n",
              "      <td>no</td>\n",
              "      <td>9123.592263</td>\n",
              "    </tr>\n",
              "    <tr>\n",
              "      <th>1173</th>\n",
              "      <td>38</td>\n",
              "      <td>male</td>\n",
              "      <td>30.72300</td>\n",
              "      <td>2</td>\n",
              "      <td>no</td>\n",
              "      <td>7620.255212</td>\n",
              "    </tr>\n",
              "    <tr>\n",
              "      <th>0</th>\n",
              "      <td>19</td>\n",
              "      <td>female</td>\n",
              "      <td>29.29500</td>\n",
              "      <td>0</td>\n",
              "      <td>yes</td>\n",
              "      <td>19924.210320</td>\n",
              "    </tr>\n",
              "    <tr>\n",
              "      <th>681</th>\n",
              "      <td>19</td>\n",
              "      <td>male</td>\n",
              "      <td>21.31500</td>\n",
              "      <td>0</td>\n",
              "      <td>no</td>\n",
              "      <td>1465.866800</td>\n",
              "    </tr>\n",
              "    <tr>\n",
              "      <th>215</th>\n",
              "      <td>41</td>\n",
              "      <td>female</td>\n",
              "      <td>38.95500</td>\n",
              "      <td>2</td>\n",
              "      <td>no</td>\n",
              "      <td>8698.690960</td>\n",
              "    </tr>\n",
              "  </tbody>\n",
              "</table>\n",
              "</div>\n",
              "      <button class=\"colab-df-convert\" onclick=\"convertToInteractive('df-1c7e02e7-3d7e-4bfb-9333-14aef25d1c18')\"\n",
              "              title=\"Convert this dataframe to an interactive table.\"\n",
              "              style=\"display:none;\">\n",
              "        \n",
              "  <svg xmlns=\"http://www.w3.org/2000/svg\" height=\"24px\"viewBox=\"0 0 24 24\"\n",
              "       width=\"24px\">\n",
              "    <path d=\"M0 0h24v24H0V0z\" fill=\"none\"/>\n",
              "    <path d=\"M18.56 5.44l.94 2.06.94-2.06 2.06-.94-2.06-.94-.94-2.06-.94 2.06-2.06.94zm-11 1L8.5 8.5l.94-2.06 2.06-.94-2.06-.94L8.5 2.5l-.94 2.06-2.06.94zm10 10l.94 2.06.94-2.06 2.06-.94-2.06-.94-.94-2.06-.94 2.06-2.06.94z\"/><path d=\"M17.41 7.96l-1.37-1.37c-.4-.4-.92-.59-1.43-.59-.52 0-1.04.2-1.43.59L10.3 9.45l-7.72 7.72c-.78.78-.78 2.05 0 2.83L4 21.41c.39.39.9.59 1.41.59.51 0 1.02-.2 1.41-.59l7.78-7.78 2.81-2.81c.8-.78.8-2.07 0-2.86zM5.41 20L4 18.59l7.72-7.72 1.47 1.35L5.41 20z\"/>\n",
              "  </svg>\n",
              "      </button>\n",
              "      \n",
              "  <style>\n",
              "    .colab-df-container {\n",
              "      display:flex;\n",
              "      flex-wrap:wrap;\n",
              "      gap: 12px;\n",
              "    }\n",
              "\n",
              "    .colab-df-convert {\n",
              "      background-color: #E8F0FE;\n",
              "      border: none;\n",
              "      border-radius: 50%;\n",
              "      cursor: pointer;\n",
              "      display: none;\n",
              "      fill: #1967D2;\n",
              "      height: 32px;\n",
              "      padding: 0 0 0 0;\n",
              "      width: 32px;\n",
              "    }\n",
              "\n",
              "    .colab-df-convert:hover {\n",
              "      background-color: #E2EBFA;\n",
              "      box-shadow: 0px 1px 2px rgba(60, 64, 67, 0.3), 0px 1px 3px 1px rgba(60, 64, 67, 0.15);\n",
              "      fill: #174EA6;\n",
              "    }\n",
              "\n",
              "    [theme=dark] .colab-df-convert {\n",
              "      background-color: #3B4455;\n",
              "      fill: #D2E3FC;\n",
              "    }\n",
              "\n",
              "    [theme=dark] .colab-df-convert:hover {\n",
              "      background-color: #434B5C;\n",
              "      box-shadow: 0px 1px 3px 1px rgba(0, 0, 0, 0.15);\n",
              "      filter: drop-shadow(0px 1px 2px rgba(0, 0, 0, 0.3));\n",
              "      fill: #FFFFFF;\n",
              "    }\n",
              "  </style>\n",
              "\n",
              "      <script>\n",
              "        const buttonEl =\n",
              "          document.querySelector('#df-1c7e02e7-3d7e-4bfb-9333-14aef25d1c18 button.colab-df-convert');\n",
              "        buttonEl.style.display =\n",
              "          google.colab.kernel.accessAllowed ? 'block' : 'none';\n",
              "\n",
              "        async function convertToInteractive(key) {\n",
              "          const element = document.querySelector('#df-1c7e02e7-3d7e-4bfb-9333-14aef25d1c18');\n",
              "          const dataTable =\n",
              "            await google.colab.kernel.invokeFunction('convertToInteractive',\n",
              "                                                     [key], {});\n",
              "          if (!dataTable) return;\n",
              "\n",
              "          const docLinkHtml = 'Like what you see? Visit the ' +\n",
              "            '<a target=\"_blank\" href=https://colab.research.google.com/notebooks/data_table.ipynb>data table notebook</a>'\n",
              "            + ' to learn more about interactive tables.';\n",
              "          element.innerHTML = '';\n",
              "          dataTable['output_type'] = 'display_data';\n",
              "          await google.colab.output.renderOutput(dataTable, element);\n",
              "          const docLink = document.createElement('div');\n",
              "          docLink.innerHTML = docLinkHtml;\n",
              "          element.appendChild(docLink);\n",
              "        }\n",
              "      </script>\n",
              "    </div>\n",
              "  </div>\n",
              "  "
            ]
          },
          "metadata": {},
          "execution_count": 644
        }
      ],
      "source": [
        "dataframe = customize_dataset(dataframe_raw, your_name)\n",
        "dataframe.head()"
      ]
    },
    {
      "cell_type": "markdown",
      "metadata": {
        "id": "jLXBz9mNL3Bk"
      },
      "source": [
        "Let us answer some basic questions about the dataset. \n",
        "\n",
        "\n",
        "**Q1: How many rows does the dataset have?**"
      ]
    },
    {
      "cell_type": "code",
      "execution_count": null,
      "metadata": {
        "colab": {
          "base_uri": "https://localhost:8080/"
        },
        "id": "O5a3IIGrMv6c",
        "outputId": "7dc4a496-13e0-428c-8e20-75b8d23b5403"
      },
      "outputs": [
        {
          "output_type": "execute_result",
          "data": {
            "text/plain": [
              "(1271, 6)"
            ]
          },
          "metadata": {},
          "execution_count": 645
        }
      ],
      "source": [
        "dataframe.shape"
      ]
    },
    {
      "cell_type": "code",
      "execution_count": null,
      "metadata": {
        "colab": {
          "base_uri": "https://localhost:8080/"
        },
        "id": "QwJ9L9mAL3Bk",
        "outputId": "1f689e3b-1988-4a0d-acbb-d743239cdf66"
      },
      "outputs": [
        {
          "output_type": "stream",
          "name": "stdout",
          "text": [
            "1271\n"
          ]
        }
      ],
      "source": [
        "num_rows = dataframe.shape[0]\n",
        "print(num_rows)"
      ]
    },
    {
      "cell_type": "markdown",
      "metadata": {
        "id": "XxydcBleL3Bk"
      },
      "source": [
        "**Q2: How many columns doe the dataset have**"
      ]
    },
    {
      "cell_type": "code",
      "execution_count": null,
      "metadata": {
        "colab": {
          "base_uri": "https://localhost:8080/"
        },
        "id": "-3vgM2b6L3Bl",
        "outputId": "339c9081-8f9e-4a5a-d4c0-5d88892be501"
      },
      "outputs": [
        {
          "output_type": "stream",
          "name": "stdout",
          "text": [
            "6\n"
          ]
        }
      ],
      "source": [
        "num_cols = dataframe.shape[1]\n",
        "print(num_cols)"
      ]
    },
    {
      "cell_type": "markdown",
      "metadata": {
        "id": "xPTWbFYgL3Bl"
      },
      "source": [
        "**Q3: What are the column titles of the input variables?**"
      ]
    },
    {
      "cell_type": "code",
      "execution_count": null,
      "metadata": {
        "id": "uK0hdCH8L3Bl"
      },
      "outputs": [],
      "source": [
        "input_cols = dataframe.columns.tolist()"
      ]
    },
    {
      "cell_type": "markdown",
      "metadata": {
        "id": "cuj0KisPL3Bm"
      },
      "source": [
        "**Q4: Which of the input columns are non-numeric or categorial variables ?**\n",
        "\n",
        "Hint: `sex` is one of them. List the columns that are not numbers."
      ]
    },
    {
      "cell_type": "code",
      "execution_count": null,
      "metadata": {
        "colab": {
          "base_uri": "https://localhost:8080/"
        },
        "id": "vbrzQuLsNPti",
        "outputId": "c8d9dd8c-69ff-419c-9ea8-47c96f6db845"
      },
      "outputs": [
        {
          "output_type": "stream",
          "name": "stdout",
          "text": [
            "<class 'pandas.core.frame.DataFrame'>\n",
            "Int64Index: 1271 entries, 805 to 941\n",
            "Data columns (total 6 columns):\n",
            " #   Column    Non-Null Count  Dtype  \n",
            "---  ------    --------------  -----  \n",
            " 0   age       1271 non-null   int64  \n",
            " 1   sex       1271 non-null   object \n",
            " 2   bmi       1271 non-null   float64\n",
            " 3   children  1271 non-null   int64  \n",
            " 4   smoker    1271 non-null   object \n",
            " 5   charges   1271 non-null   float64\n",
            "dtypes: float64(2), int64(2), object(2)\n",
            "memory usage: 69.5+ KB\n"
          ]
        }
      ],
      "source": [
        "dataframe.info()"
      ]
    },
    {
      "cell_type": "code",
      "execution_count": null,
      "metadata": {
        "colab": {
          "base_uri": "https://localhost:8080/"
        },
        "id": "WIysdoYSL3Bm",
        "outputId": "9ff9500b-6cc1-4ee8-a321-953433afa09e"
      },
      "outputs": [
        {
          "output_type": "execute_result",
          "data": {
            "text/plain": [
              "['sex', 'smoker']"
            ]
          },
          "metadata": {},
          "execution_count": 650
        }
      ],
      "source": [
        "categorical_cols = dataframe.select_dtypes(include='object').columns.tolist()\n",
        "categorical_cols"
      ]
    },
    {
      "cell_type": "markdown",
      "metadata": {
        "id": "ashayM2hL3Bn"
      },
      "source": [
        "**Q5: What are the column titles of output/target variable(s)?**"
      ]
    },
    {
      "cell_type": "code",
      "execution_count": null,
      "metadata": {
        "id": "SOzRo05HL3Bn"
      },
      "outputs": [],
      "source": [
        "output_cols = ['charges']"
      ]
    },
    {
      "cell_type": "markdown",
      "metadata": {
        "id": "GQ3sEv-pL3Bn"
      },
      "source": [
        "**Q: (Optional) What is the minimum, maximum and average value of the `charges` column? Can you show the distribution of values in a graph?**\n",
        "Use this data visualization cheatsheet for referece: https://jovian.ai/aakashns/dataviz-cheatsheet"
      ]
    },
    {
      "cell_type": "code",
      "execution_count": null,
      "metadata": {
        "colab": {
          "base_uri": "https://localhost:8080/"
        },
        "id": "Yjoy8UziL3Bn",
        "outputId": "01c69f10-36d0-4f52-b4f6-3a23d8bcd5a9"
      },
      "outputs": [
        {
          "output_type": "execute_result",
          "data": {
            "text/plain": [
              "(1323.811202, 75249.1050518)"
            ]
          },
          "metadata": {},
          "execution_count": 652
        }
      ],
      "source": [
        "charges_min = dataframe.charges.min()\n",
        "charges_max = dataframe.charges.max()\n",
        "charges_min, charges_max"
      ]
    },
    {
      "cell_type": "markdown",
      "metadata": {
        "id": "4mnnusq5L3Bo"
      },
      "source": [
        "Remember to commit your notebook to Jovian after every step, so that you don't lose your work."
      ]
    },
    {
      "cell_type": "code",
      "execution_count": null,
      "metadata": {
        "id": "5Xb_K66nL3Bo"
      },
      "outputs": [],
      "source": [
        "!pip install jovian --upgrade -q"
      ]
    },
    {
      "cell_type": "code",
      "execution_count": null,
      "metadata": {
        "id": "IgvGz40_L3Bo"
      },
      "outputs": [],
      "source": [
        "import jovian"
      ]
    },
    {
      "cell_type": "code",
      "execution_count": null,
      "metadata": {
        "colab": {
          "base_uri": "https://localhost:8080/"
        },
        "id": "1f1zNBpmL3Bo",
        "outputId": "6d5e113f-65a6-4d95-f00f-e64b5378c3f8"
      },
      "outputs": [
        {
          "output_type": "stream",
          "name": "stdout",
          "text": [
            "[jovian] Detected Colab notebook...\u001b[0m\n",
            "[jovian] jovian.commit() is no longer required on Google Colab. If you ran this notebook from Jovian, \n",
            "then just save this file in Colab using Ctrl+S/Cmd+S and it will be updated on Jovian. \n",
            "Also, you can also delete this cell, it's no longer necessary.\u001b[0m\n"
          ]
        }
      ],
      "source": [
        "jovian.commit()"
      ]
    },
    {
      "cell_type": "markdown",
      "metadata": {
        "id": "8Ew9XZxaL3Bp"
      },
      "source": [
        "## Step 2: Prepare the dataset for training\n",
        "\n",
        "We need to convert the data from the Pandas dataframe into a PyTorch tensors for training. To do this, the first step is to convert it numpy arrays. If you've filled out `input_cols`, `categorial_cols` and `output_cols` correctly, this following function will perform the conversion to numpy arrays."
      ]
    },
    {
      "cell_type": "code",
      "source": [
        "dataframe2 = dataframe.copy(deep=True)\n",
        "dataframe2.head()"
      ],
      "metadata": {
        "colab": {
          "base_uri": "https://localhost:8080/",
          "height": 206
        },
        "id": "Qv1up5v-mG2v",
        "outputId": "52b10c3b-2652-4aea-fc75-889c84508ef8"
      },
      "execution_count": null,
      "outputs": [
        {
          "output_type": "execute_result",
          "data": {
            "text/plain": [
              "      age     sex       bmi  children smoker       charges\n",
              "805    45  female  37.60575         0     no   9123.592263\n",
              "1173   38    male  30.72300         2     no   7620.255212\n",
              "0      19  female  29.29500         0    yes  19924.210320\n",
              "681    19    male  21.31500         0     no   1465.866800\n",
              "215    41  female  38.95500         2     no   8698.690960"
            ],
            "text/html": [
              "\n",
              "  <div id=\"df-15437585-ed0a-4e20-9eaf-2a538b581dd8\">\n",
              "    <div class=\"colab-df-container\">\n",
              "      <div>\n",
              "<style scoped>\n",
              "    .dataframe tbody tr th:only-of-type {\n",
              "        vertical-align: middle;\n",
              "    }\n",
              "\n",
              "    .dataframe tbody tr th {\n",
              "        vertical-align: top;\n",
              "    }\n",
              "\n",
              "    .dataframe thead th {\n",
              "        text-align: right;\n",
              "    }\n",
              "</style>\n",
              "<table border=\"1\" class=\"dataframe\">\n",
              "  <thead>\n",
              "    <tr style=\"text-align: right;\">\n",
              "      <th></th>\n",
              "      <th>age</th>\n",
              "      <th>sex</th>\n",
              "      <th>bmi</th>\n",
              "      <th>children</th>\n",
              "      <th>smoker</th>\n",
              "      <th>charges</th>\n",
              "    </tr>\n",
              "  </thead>\n",
              "  <tbody>\n",
              "    <tr>\n",
              "      <th>805</th>\n",
              "      <td>45</td>\n",
              "      <td>female</td>\n",
              "      <td>37.60575</td>\n",
              "      <td>0</td>\n",
              "      <td>no</td>\n",
              "      <td>9123.592263</td>\n",
              "    </tr>\n",
              "    <tr>\n",
              "      <th>1173</th>\n",
              "      <td>38</td>\n",
              "      <td>male</td>\n",
              "      <td>30.72300</td>\n",
              "      <td>2</td>\n",
              "      <td>no</td>\n",
              "      <td>7620.255212</td>\n",
              "    </tr>\n",
              "    <tr>\n",
              "      <th>0</th>\n",
              "      <td>19</td>\n",
              "      <td>female</td>\n",
              "      <td>29.29500</td>\n",
              "      <td>0</td>\n",
              "      <td>yes</td>\n",
              "      <td>19924.210320</td>\n",
              "    </tr>\n",
              "    <tr>\n",
              "      <th>681</th>\n",
              "      <td>19</td>\n",
              "      <td>male</td>\n",
              "      <td>21.31500</td>\n",
              "      <td>0</td>\n",
              "      <td>no</td>\n",
              "      <td>1465.866800</td>\n",
              "    </tr>\n",
              "    <tr>\n",
              "      <th>215</th>\n",
              "      <td>41</td>\n",
              "      <td>female</td>\n",
              "      <td>38.95500</td>\n",
              "      <td>2</td>\n",
              "      <td>no</td>\n",
              "      <td>8698.690960</td>\n",
              "    </tr>\n",
              "  </tbody>\n",
              "</table>\n",
              "</div>\n",
              "      <button class=\"colab-df-convert\" onclick=\"convertToInteractive('df-15437585-ed0a-4e20-9eaf-2a538b581dd8')\"\n",
              "              title=\"Convert this dataframe to an interactive table.\"\n",
              "              style=\"display:none;\">\n",
              "        \n",
              "  <svg xmlns=\"http://www.w3.org/2000/svg\" height=\"24px\"viewBox=\"0 0 24 24\"\n",
              "       width=\"24px\">\n",
              "    <path d=\"M0 0h24v24H0V0z\" fill=\"none\"/>\n",
              "    <path d=\"M18.56 5.44l.94 2.06.94-2.06 2.06-.94-2.06-.94-.94-2.06-.94 2.06-2.06.94zm-11 1L8.5 8.5l.94-2.06 2.06-.94-2.06-.94L8.5 2.5l-.94 2.06-2.06.94zm10 10l.94 2.06.94-2.06 2.06-.94-2.06-.94-.94-2.06-.94 2.06-2.06.94z\"/><path d=\"M17.41 7.96l-1.37-1.37c-.4-.4-.92-.59-1.43-.59-.52 0-1.04.2-1.43.59L10.3 9.45l-7.72 7.72c-.78.78-.78 2.05 0 2.83L4 21.41c.39.39.9.59 1.41.59.51 0 1.02-.2 1.41-.59l7.78-7.78 2.81-2.81c.8-.78.8-2.07 0-2.86zM5.41 20L4 18.59l7.72-7.72 1.47 1.35L5.41 20z\"/>\n",
              "  </svg>\n",
              "      </button>\n",
              "      \n",
              "  <style>\n",
              "    .colab-df-container {\n",
              "      display:flex;\n",
              "      flex-wrap:wrap;\n",
              "      gap: 12px;\n",
              "    }\n",
              "\n",
              "    .colab-df-convert {\n",
              "      background-color: #E8F0FE;\n",
              "      border: none;\n",
              "      border-radius: 50%;\n",
              "      cursor: pointer;\n",
              "      display: none;\n",
              "      fill: #1967D2;\n",
              "      height: 32px;\n",
              "      padding: 0 0 0 0;\n",
              "      width: 32px;\n",
              "    }\n",
              "\n",
              "    .colab-df-convert:hover {\n",
              "      background-color: #E2EBFA;\n",
              "      box-shadow: 0px 1px 2px rgba(60, 64, 67, 0.3), 0px 1px 3px 1px rgba(60, 64, 67, 0.15);\n",
              "      fill: #174EA6;\n",
              "    }\n",
              "\n",
              "    [theme=dark] .colab-df-convert {\n",
              "      background-color: #3B4455;\n",
              "      fill: #D2E3FC;\n",
              "    }\n",
              "\n",
              "    [theme=dark] .colab-df-convert:hover {\n",
              "      background-color: #434B5C;\n",
              "      box-shadow: 0px 1px 3px 1px rgba(0, 0, 0, 0.15);\n",
              "      filter: drop-shadow(0px 1px 2px rgba(0, 0, 0, 0.3));\n",
              "      fill: #FFFFFF;\n",
              "    }\n",
              "  </style>\n",
              "\n",
              "      <script>\n",
              "        const buttonEl =\n",
              "          document.querySelector('#df-15437585-ed0a-4e20-9eaf-2a538b581dd8 button.colab-df-convert');\n",
              "        buttonEl.style.display =\n",
              "          google.colab.kernel.accessAllowed ? 'block' : 'none';\n",
              "\n",
              "        async function convertToInteractive(key) {\n",
              "          const element = document.querySelector('#df-15437585-ed0a-4e20-9eaf-2a538b581dd8');\n",
              "          const dataTable =\n",
              "            await google.colab.kernel.invokeFunction('convertToInteractive',\n",
              "                                                     [key], {});\n",
              "          if (!dataTable) return;\n",
              "\n",
              "          const docLinkHtml = 'Like what you see? Visit the ' +\n",
              "            '<a target=\"_blank\" href=https://colab.research.google.com/notebooks/data_table.ipynb>data table notebook</a>'\n",
              "            + ' to learn more about interactive tables.';\n",
              "          element.innerHTML = '';\n",
              "          dataTable['output_type'] = 'display_data';\n",
              "          await google.colab.output.renderOutput(dataTable, element);\n",
              "          const docLink = document.createElement('div');\n",
              "          docLink.innerHTML = docLinkHtml;\n",
              "          element.appendChild(docLink);\n",
              "        }\n",
              "      </script>\n",
              "    </div>\n",
              "  </div>\n",
              "  "
            ]
          },
          "metadata": {},
          "execution_count": 656
        }
      ]
    },
    {
      "cell_type": "code",
      "execution_count": null,
      "metadata": {
        "id": "H_toxzWYL3Bp"
      },
      "outputs": [],
      "source": [
        "def dataframe_to_arrays(dataframe):\n",
        "    # Make a copy of the original dataframe\n",
        "    dataframe1 = dataframe.copy(deep=True)\n",
        "    # Convert non-numeric categorical columns to numbers\n",
        "    for col in categorical_cols:\n",
        "        dataframe1[col] = dataframe1[col].astype('category').cat.codes\n",
        "    # Extract input & outupts as numpy arrays\n",
        "    inputs_array = dataframe1[input_cols].to_numpy()\n",
        "    targets_array = dataframe1[output_cols].to_numpy()\n",
        "    return inputs_array, targets_array"
      ]
    },
    {
      "cell_type": "markdown",
      "metadata": {
        "id": "ClpiA_wBL3Bp"
      },
      "source": [
        "Read through the [Pandas documentation](https://pandas.pydata.org/pandas-docs/stable/user_guide/categorical.html) to understand how we're converting categorical variables into numbers."
      ]
    },
    {
      "cell_type": "code",
      "execution_count": null,
      "metadata": {
        "id": "0x1QVmIgL3Bq",
        "colab": {
          "base_uri": "https://localhost:8080/"
        },
        "outputId": "cc9e19b1-42bc-4cc6-9916-9ae728a32562"
      },
      "outputs": [
        {
          "output_type": "execute_result",
          "data": {
            "text/plain": [
              "(array([[4.50000000e+01, 0.00000000e+00, 3.76057500e+01, 0.00000000e+00,\n",
              "         0.00000000e+00, 9.12359226e+03],\n",
              "        [3.80000000e+01, 1.00000000e+00, 3.07230000e+01, 2.00000000e+00,\n",
              "         0.00000000e+00, 7.62025521e+03],\n",
              "        [1.90000000e+01, 0.00000000e+00, 2.92950000e+01, 0.00000000e+00,\n",
              "         1.00000000e+00, 1.99242103e+04],\n",
              "        ...,\n",
              "        [3.30000000e+01, 0.00000000e+00, 3.51750000e+01, 0.00000000e+00,\n",
              "         1.00000000e+00, 4.37536590e+04],\n",
              "        [5.30000000e+01, 1.00000000e+00, 3.03240000e+01, 0.00000000e+00,\n",
              "         0.00000000e+00, 1.16463760e+04],\n",
              "        [5.00000000e+01, 0.00000000e+00, 4.83945000e+01, 1.00000000e+00,\n",
              "         0.00000000e+00, 1.12684868e+04]]), array([[ 9123.592263],\n",
              "        [ 7620.255212],\n",
              "        [19924.21032 ],\n",
              "        ...,\n",
              "        [43753.65896 ],\n",
              "        [11646.376036],\n",
              "        [11268.486818]]))"
            ]
          },
          "metadata": {},
          "execution_count": 658
        }
      ],
      "source": [
        "inputs_array, targets_array = dataframe_to_arrays(dataframe)\n",
        "inputs_array, targets_array"
      ]
    },
    {
      "cell_type": "markdown",
      "metadata": {
        "id": "69CBYLOhL3Bq"
      },
      "source": [
        "**Q6: Convert the numpy arrays `inputs_array` and `targets_array` into PyTorch tensors. Make sure that the data type is `torch.float32`.**"
      ]
    },
    {
      "cell_type": "code",
      "execution_count": null,
      "metadata": {
        "id": "8q1Q9ybbL3Bq"
      },
      "outputs": [],
      "source": [
        "inputs = torch.tensor(inputs_array,dtype=torch.float32)\n",
        "targets = torch.tensor(targets_array,dtype=torch.float32)"
      ]
    },
    {
      "cell_type": "code",
      "execution_count": null,
      "metadata": {
        "id": "xX0vlAf-L3Bq",
        "colab": {
          "base_uri": "https://localhost:8080/"
        },
        "outputId": "0e76e4bb-9caf-45bd-bd53-0d8ad5db7103"
      },
      "outputs": [
        {
          "output_type": "execute_result",
          "data": {
            "text/plain": [
              "(torch.float32, torch.float32)"
            ]
          },
          "metadata": {},
          "execution_count": 660
        }
      ],
      "source": [
        "inputs.dtype, targets.dtype"
      ]
    },
    {
      "cell_type": "markdown",
      "metadata": {
        "id": "Cizcy2HkL3Br"
      },
      "source": [
        "Next, we need to create PyTorch datasets & data loaders for training & validation. We'll start by creating a `TensorDataset`."
      ]
    },
    {
      "cell_type": "code",
      "execution_count": null,
      "metadata": {
        "id": "qbG6kjWPL3Br"
      },
      "outputs": [],
      "source": [
        "dataset = TensorDataset(inputs, targets)"
      ]
    },
    {
      "cell_type": "markdown",
      "metadata": {
        "id": "_3udaab8L3Br"
      },
      "source": [
        "**Q7: Pick a number between `0.1` and `0.2` to determine the fraction of data that will be used for creating the validation set. Then use `random_split` to create training & validation datasets.**"
      ]
    },
    {
      "cell_type": "code",
      "execution_count": null,
      "metadata": {
        "id": "v_B9HlKNL3Bs"
      },
      "outputs": [],
      "source": [
        "val_percent = 0.1 # between 0.1 and 0.2\n",
        "val_size = int(num_rows * val_percent)\n",
        "train_size = num_rows - val_size\n",
        "\n",
        "\n",
        "train_ds, val_ds = random_split(dataset, [train_size, val_size]) # Use the random_split function to split dataset into 2 parts of the desired length"
      ]
    },
    {
      "cell_type": "markdown",
      "metadata": {
        "id": "iFioAcEfL3Bs"
      },
      "source": [
        "Finally, we can create data loaders for training & validation.\n",
        "\n",
        "**Q8: Pick a batch size for the data loader.**"
      ]
    },
    {
      "cell_type": "code",
      "execution_count": null,
      "metadata": {
        "id": "DAObaL-oL3Bs"
      },
      "outputs": [],
      "source": [
        "batch_size = 100"
      ]
    },
    {
      "cell_type": "code",
      "execution_count": null,
      "metadata": {
        "id": "9bsJ8LZKL3Bs"
      },
      "outputs": [],
      "source": [
        "train_loader = DataLoader(train_ds, batch_size, shuffle=True)\n",
        "val_loader = DataLoader(val_ds, batch_size)"
      ]
    },
    {
      "cell_type": "markdown",
      "metadata": {
        "id": "O6QeXZonL3Bt"
      },
      "source": [
        "Let's look at a batch of data to verify everything is working fine so far."
      ]
    },
    {
      "cell_type": "code",
      "execution_count": null,
      "metadata": {
        "id": "cfS_isIyL3Bt",
        "colab": {
          "base_uri": "https://localhost:8080/"
        },
        "outputId": "9aae973d-b3c0-47b0-ec5a-d8a873236da8"
      },
      "outputs": [
        {
          "output_type": "stream",
          "name": "stdout",
          "text": [
            "inputs: tensor([[5.0000e+01, 0.0000e+00, 2.7531e+01, 2.0000e+00, 0.0000e+00, 1.2383e+04],\n",
            "        [5.9000e+01, 1.0000e+00, 3.9270e+01, 0.0000e+00, 0.0000e+00, 2.5720e+04],\n",
            "        [5.1000e+01, 1.0000e+00, 3.8850e+01, 0.0000e+00, 0.0000e+00, 1.0382e+04],\n",
            "        [4.9000e+01, 0.0000e+00, 3.8461e+01, 3.0000e+00, 0.0000e+00, 1.2250e+04],\n",
            "        [6.0000e+01, 0.0000e+00, 2.5757e+01, 0.0000e+00, 0.0000e+00, 1.4903e+04],\n",
            "        [3.0000e+01, 1.0000e+00, 3.3148e+01, 3.0000e+00, 0.0000e+00, 5.7083e+03],\n",
            "        [2.3000e+01, 1.0000e+00, 2.8728e+01, 1.0000e+00, 0.0000e+00, 3.2911e+03],\n",
            "        [2.8000e+01, 0.0000e+00, 2.8875e+01, 2.0000e+00, 0.0000e+00, 2.3810e+04],\n",
            "        [5.1000e+01, 0.0000e+00, 3.9963e+01, 0.0000e+00, 1.0000e+00, 5.2392e+04],\n",
            "        [3.3000e+01, 0.0000e+00, 4.5087e+01, 3.0000e+00, 0.0000e+00, 7.5060e+03],\n",
            "        [2.4000e+01, 1.0000e+00, 3.3611e+01, 0.0000e+00, 0.0000e+00, 2.3383e+03],\n",
            "        [3.7000e+01, 0.0000e+00, 3.5810e+01, 1.0000e+00, 0.0000e+00, 7.2126e+03],\n",
            "        [4.4000e+01, 1.0000e+00, 2.6633e+01, 1.0000e+00, 0.0000e+00, 8.8713e+03],\n",
            "        [5.6000e+01, 1.0000e+00, 4.2315e+01, 0.0000e+00, 0.0000e+00, 1.2511e+04],\n",
            "        [2.6000e+01, 1.0000e+00, 2.8413e+01, 0.0000e+00, 1.0000e+00, 2.0111e+04],\n",
            "        [1.8000e+01, 1.0000e+00, 2.4486e+01, 1.0000e+00, 0.0000e+00, 2.0190e+03],\n",
            "        [3.7000e+01, 1.0000e+00, 3.5910e+01, 1.0000e+00, 1.0000e+00, 4.6076e+04],\n",
            "        [4.8000e+01, 0.0000e+00, 2.9326e+01, 4.0000e+00, 0.0000e+00, 1.2998e+04],\n",
            "        [4.4000e+01, 0.0000e+00, 3.9963e+01, 0.0000e+00, 1.0000e+00, 5.7684e+04],\n",
            "        [5.3000e+01, 1.0000e+00, 3.2917e+01, 0.0000e+00, 0.0000e+00, 3.2268e+04],\n",
            "        [5.2000e+01, 0.0000e+00, 2.5337e+01, 1.0000e+00, 1.0000e+00, 2.8187e+04],\n",
            "        [1.8000e+01, 1.0000e+00, 4.3197e+01, 0.0000e+00, 0.0000e+00, 1.3532e+03],\n",
            "        [4.2000e+01, 1.0000e+00, 3.5805e+01, 0.0000e+00, 0.0000e+00, 7.0561e+03],\n",
            "        [4.4000e+01, 1.0000e+00, 3.1222e+01, 2.0000e+00, 0.0000e+00, 3.7888e+04],\n",
            "        [2.2000e+01, 1.0000e+00, 3.0324e+01, 0.0000e+00, 0.0000e+00, 2.6560e+03],\n",
            "        [2.1000e+01, 1.0000e+00, 2.6985e+01, 4.0000e+00, 1.0000e+00, 2.1172e+04],\n",
            "        [3.2000e+01, 0.0000e+00, 1.8653e+01, 2.0000e+00, 1.0000e+00, 3.8626e+04],\n",
            "        [3.8000e+01, 0.0000e+00, 2.0449e+01, 2.0000e+00, 0.0000e+00, 8.1812e+03],\n",
            "        [2.2000e+01, 0.0000e+00, 2.2344e+01, 3.0000e+00, 0.0000e+00, 5.0696e+03],\n",
            "        [6.0000e+01, 1.0000e+00, 3.4440e+01, 0.0000e+00, 1.0000e+00, 6.2057e+04],\n",
            "        [5.4000e+01, 0.0000e+00, 3.3495e+01, 3.0000e+00, 0.0000e+00, 3.2241e+04],\n",
            "        [3.8000e+01, 0.0000e+00, 3.0376e+01, 1.0000e+00, 0.0000e+00, 7.0498e+03],\n",
            "        [4.7000e+01, 1.0000e+00, 3.1322e+01, 3.0000e+00, 0.0000e+00, 1.1352e+04],\n",
            "        [5.1000e+01, 0.0000e+00, 2.7090e+01, 1.0000e+00, 0.0000e+00, 1.1636e+04],\n",
            "        [1.8000e+01, 1.0000e+00, 2.2544e+01, 0.0000e+00, 0.0000e+00, 2.0089e+03],\n",
            "        [5.1000e+01, 1.0000e+00, 2.4371e+01, 1.0000e+00, 1.0000e+00, 2.6217e+04],\n",
            "        [5.3000e+01, 0.0000e+00, 3.7695e+01, 2.0000e+00, 0.0000e+00, 1.3173e+04],\n",
            "        [4.8000e+01, 1.0000e+00, 3.7406e+01, 4.0000e+00, 0.0000e+00, 1.2670e+04],\n",
            "        [1.8000e+01, 0.0000e+00, 4.2273e+01, 0.0000e+00, 0.0000e+00, 1.9288e+03],\n",
            "        [2.5000e+01, 1.0000e+00, 2.8140e+01, 3.0000e+00, 0.0000e+00, 4.6092e+03],\n",
            "        [1.9000e+01, 1.0000e+00, 2.8628e+01, 2.0000e+00, 0.0000e+00, 2.6543e+04],\n",
            "        [6.3000e+01, 1.0000e+00, 2.9726e+01, 0.0000e+00, 0.0000e+00, 1.6249e+04],\n",
            "        [4.4000e+01, 0.0000e+00, 3.3957e+01, 1.0000e+00, 0.0000e+00, 9.0078e+03],\n",
            "        [1.9000e+01, 0.0000e+00, 3.0030e+01, 5.0000e+00, 0.0000e+00, 5.5316e+03],\n",
            "        [3.4000e+01, 0.0000e+00, 3.1721e+01, 1.0000e+00, 1.0000e+00, 5.1854e+04],\n",
            "        [5.7000e+01, 1.0000e+00, 3.3117e+01, 0.0000e+00, 0.0000e+00, 1.3397e+04],\n",
            "        [4.2000e+01, 1.0000e+00, 2.7631e+01, 1.0000e+00, 0.0000e+00, 8.1903e+03],\n",
            "        [4.0000e+01, 1.0000e+00, 3.3915e+01, 2.0000e+00, 0.0000e+00, 8.2443e+03],\n",
            "        [4.4000e+01, 0.0000e+00, 2.8875e+01, 1.0000e+00, 0.0000e+00, 8.9999e+03],\n",
            "        [2.0000e+01, 0.0000e+00, 2.5641e+01, 0.0000e+00, 1.0000e+00, 3.0828e+04],\n",
            "        [1.9000e+01, 1.0000e+00, 2.9085e+01, 0.0000e+00, 1.0000e+00, 1.9231e+04],\n",
            "        [3.7000e+01, 1.0000e+00, 3.2340e+01, 0.0000e+00, 0.0000e+00, 5.4832e+03],\n",
            "        [3.9000e+01, 1.0000e+00, 3.7065e+01, 2.0000e+00, 1.0000e+00, 4.7323e+04],\n",
            "        [2.4000e+01, 0.0000e+00, 2.3730e+01, 0.0000e+00, 0.0000e+00, 2.8999e+03],\n",
            "        [4.7000e+01, 1.0000e+00, 3.8000e+01, 0.0000e+00, 1.0000e+00, 4.9178e+04],\n",
            "        [4.3000e+01, 0.0000e+00, 2.8035e+01, 2.0000e+00, 1.0000e+00, 2.6525e+04],\n",
            "        [4.3000e+01, 0.0000e+00, 3.6120e+01, 3.0000e+00, 0.0000e+00, 1.0056e+04],\n",
            "        [3.8000e+01, 0.0000e+00, 2.0948e+01, 2.0000e+00, 0.0000e+00, 8.4180e+03],\n",
            "        [4.8000e+01, 1.0000e+00, 4.2158e+01, 0.0000e+00, 0.0000e+00, 9.2089e+03],\n",
            "        [5.3000e+01, 1.0000e+00, 3.0324e+01, 0.0000e+00, 0.0000e+00, 1.1646e+04],\n",
            "        [4.9000e+01, 1.0000e+00, 3.9386e+01, 2.0000e+00, 0.0000e+00, 1.0980e+04],\n",
            "        [2.9000e+01, 0.0000e+00, 3.2718e+01, 0.0000e+00, 0.0000e+00, 4.6534e+03],\n",
            "        [2.7000e+01, 0.0000e+00, 1.8853e+01, 2.0000e+00, 1.0000e+00, 1.7708e+04],\n",
            "        [2.1000e+01, 0.0000e+00, 2.7090e+01, 0.0000e+00, 0.0000e+00, 2.3694e+03],\n",
            "        [4.5000e+01, 1.0000e+00, 3.1710e+01, 1.0000e+00, 0.0000e+00, 8.7804e+03],\n",
            "        [2.1000e+01, 0.0000e+00, 3.5312e+01, 2.0000e+00, 0.0000e+00, 4.2242e+03],\n",
            "        [3.4000e+01, 1.0000e+00, 3.6409e+01, 0.0000e+00, 0.0000e+00, 5.3322e+03],\n",
            "        [4.5000e+01, 1.0000e+00, 3.0135e+01, 2.0000e+00, 0.0000e+00, 9.4730e+03],\n",
            "        [2.1000e+01, 1.0000e+00, 2.1247e+01, 3.0000e+00, 0.0000e+00, 4.5562e+03],\n",
            "        [3.3000e+01, 1.0000e+00, 3.7007e+01, 0.0000e+00, 0.0000e+00, 1.4638e+04],\n",
            "        [4.0000e+01, 1.0000e+00, 2.7631e+01, 1.0000e+00, 0.0000e+00, 7.5395e+03],\n",
            "        [1.8000e+01, 0.0000e+00, 4.4352e+01, 0.0000e+00, 1.0000e+00, 4.5775e+04],\n",
            "        [4.3000e+01, 1.0000e+00, 3.7769e+01, 3.0000e+00, 1.0000e+00, 4.9707e+04],\n",
            "        [3.5000e+01, 0.0000e+00, 4.5507e+01, 2.0000e+00, 0.0000e+00, 6.8994e+03],\n",
            "        [4.1000e+01, 0.0000e+00, 2.2843e+01, 1.0000e+00, 0.0000e+00, 1.6196e+04],\n",
            "        [3.9000e+01, 1.0000e+00, 4.4788e+01, 0.0000e+00, 0.0000e+00, 6.7937e+03],\n",
            "        [4.5000e+01, 0.0000e+00, 3.2020e+01, 1.0000e+00, 1.0000e+00, 4.6876e+04],\n",
            "        [4.9000e+01, 1.0000e+00, 3.1322e+01, 1.0000e+00, 0.0000e+00, 1.0960e+04],\n",
            "        [5.8000e+01, 1.0000e+00, 3.7884e+01, 0.0000e+00, 0.0000e+00, 1.3409e+04],\n",
            "        [4.6000e+01, 0.0000e+00, 2.0948e+01, 2.0000e+00, 0.0000e+00, 1.0849e+04],\n",
            "        [4.0000e+01, 1.0000e+00, 4.3775e+01, 0.0000e+00, 0.0000e+00, 6.4177e+03],\n",
            "        [3.2000e+01, 0.0000e+00, 4.6431e+01, 0.0000e+00, 0.0000e+00, 4.7131e+03],\n",
            "        [2.8000e+01, 1.0000e+00, 3.8955e+01, 1.0000e+00, 0.0000e+00, 3.8671e+03],\n",
            "        [4.1000e+01, 1.0000e+00, 3.8903e+01, 2.0000e+00, 0.0000e+00, 8.5735e+03],\n",
            "        [1.9000e+01, 0.0000e+00, 2.5736e+01, 1.0000e+00, 0.0000e+00, 3.1968e+03],\n",
            "        [4.5000e+01, 0.0000e+00, 3.4755e+01, 0.0000e+00, 0.0000e+00, 8.6672e+03],\n",
            "        [2.8000e+01, 0.0000e+00, 3.0324e+01, 1.0000e+00, 0.0000e+00, 5.1185e+03],\n",
            "        [4.8000e+01, 0.0000e+00, 3.2687e+01, 0.0000e+00, 0.0000e+00, 9.7711e+03],\n",
            "        [2.9000e+01, 0.0000e+00, 2.6880e+01, 4.0000e+00, 0.0000e+00, 6.7365e+03],\n",
            "        [5.2000e+01, 0.0000e+00, 3.2419e+01, 0.0000e+00, 0.0000e+00, 2.7194e+04],\n",
            "        [3.8000e+01, 0.0000e+00, 2.9400e+01, 3.0000e+00, 0.0000e+00, 8.4383e+03],\n",
            "        [4.6000e+01, 1.0000e+00, 2.3415e+01, 0.0000e+00, 0.0000e+00, 8.4336e+03],\n",
            "        [6.4000e+01, 0.0000e+00, 3.2865e+01, 2.0000e+00, 1.0000e+00, 5.5803e+04],\n",
            "        [1.9000e+01, 0.0000e+00, 3.2020e+01, 0.0000e+00, 0.0000e+00, 2.5115e+03],\n",
            "        [2.6000e+01, 0.0000e+00, 3.1416e+01, 1.0000e+00, 0.0000e+00, 4.0037e+03],\n",
            "        [5.6000e+01, 0.0000e+00, 2.7930e+01, 1.0000e+00, 0.0000e+00, 1.4212e+04],\n",
            "        [4.4000e+01, 0.0000e+00, 2.7090e+01, 1.0000e+00, 0.0000e+00, 8.9971e+03],\n",
            "        [5.8000e+01, 1.0000e+00, 3.3611e+01, 1.0000e+00, 0.0000e+00, 1.4097e+04],\n",
            "        [4.3000e+01, 1.0000e+00, 2.9190e+01, 0.0000e+00, 1.0000e+00, 4.4639e+04],\n",
            "        [3.0000e+01, 0.0000e+00, 3.4020e+01, 1.0000e+00, 0.0000e+00, 4.8967e+03]])\n",
            "targets: tensor([[12382.8564],\n",
            "        [25720.4609],\n",
            "        [10382.3398],\n",
            "        [12250.1445],\n",
            "        [14903.2783],\n",
            "        [ 5708.3472],\n",
            "        [ 3291.0876],\n",
            "        [23809.6523],\n",
            "        [52392.4805],\n",
            "        [ 7505.9727],\n",
            "        [ 2338.2666],\n",
            "        [ 7212.5767],\n",
            "        [ 8871.2695],\n",
            "        [12510.8145],\n",
            "        [20111.1426],\n",
            "        [ 2019.0116],\n",
            "        [46075.7969],\n",
            "        [12997.9062],\n",
            "        [57684.4609],\n",
            "        [32268.3301],\n",
            "        [28187.4414],\n",
            "        [ 1353.2200],\n",
            "        [ 7056.0825],\n",
            "        [37888.2227],\n",
            "        [ 2655.9856],\n",
            "        [21171.6855],\n",
            "        [38626.3398],\n",
            "        [ 8181.2261],\n",
            "        [ 5069.6001],\n",
            "        [62057.1797],\n",
            "        [32240.8262],\n",
            "        [ 7049.7739],\n",
            "        [11351.9902],\n",
            "        [11636.0098],\n",
            "        [ 2008.8972],\n",
            "        [26217.3750],\n",
            "        [13173.0098],\n",
            "        [12669.5078],\n",
            "        [ 1928.7966],\n",
            "        [ 4609.2300],\n",
            "        [26542.5176],\n",
            "        [16248.7158],\n",
            "        [ 9007.7900],\n",
            "        [ 5531.6006],\n",
            "        [51853.7734],\n",
            "        [13396.8086],\n",
            "        [ 8190.2734],\n",
            "        [ 8244.3027],\n",
            "        [ 8999.8516],\n",
            "        [30828.2969],\n",
            "        [19231.4590],\n",
            "        [ 5483.1758],\n",
            "        [47322.5898],\n",
            "        [ 2899.8523],\n",
            "        [49177.7773],\n",
            "        [26524.7480],\n",
            "        [10055.9639],\n",
            "        [ 8418.0049],\n",
            "        [ 9208.9092],\n",
            "        [11646.3760],\n",
            "        [10979.5479],\n",
            "        [ 4653.4424],\n",
            "        [17707.7637],\n",
            "        [ 2369.3750],\n",
            "        [ 8780.4424],\n",
            "        [ 4224.1978],\n",
            "        [ 5332.2148],\n",
            "        [ 9473.0020],\n",
            "        [ 4556.2275],\n",
            "        [14637.7578],\n",
            "        [ 7539.4658],\n",
            "        [45775.3672],\n",
            "        [49706.9297],\n",
            "        [ 6899.3628],\n",
            "        [16196.0566],\n",
            "        [ 6793.7480],\n",
            "        [46876.1094],\n",
            "        [10959.8711],\n",
            "        [13408.6738],\n",
            "        [10848.7295],\n",
            "        [ 6417.7241],\n",
            "        [ 4713.1299],\n",
            "        [ 3867.0500],\n",
            "        [ 8573.5293],\n",
            "        [ 3196.7520],\n",
            "        [ 8667.1992],\n",
            "        [ 5118.5273],\n",
            "        [ 9771.1348],\n",
            "        [ 6736.4629],\n",
            "        [27193.7676],\n",
            "        [ 8438.2881],\n",
            "        [ 8433.5840],\n",
            "        [55803.4453],\n",
            "        [ 2511.5486],\n",
            "        [ 4003.7126],\n",
            "        [14212.3232],\n",
            "        [ 8997.0635],\n",
            "        [14097.0186],\n",
            "        [44639.0742],\n",
            "        [ 4896.6885]])\n"
          ]
        }
      ],
      "source": [
        "for xb, yb in train_loader:\n",
        "    print(\"inputs:\", xb)\n",
        "    print(\"targets:\", yb)\n",
        "    break"
      ]
    },
    {
      "cell_type": "markdown",
      "metadata": {
        "id": "3DQ5L8HIL3Bt"
      },
      "source": [
        "Let's save our work by committing to Jovian."
      ]
    },
    {
      "cell_type": "code",
      "execution_count": null,
      "metadata": {
        "id": "5X_qqW4DL3Bu",
        "colab": {
          "base_uri": "https://localhost:8080/"
        },
        "outputId": "7c8e49be-0dd3-47d2-847a-7cf34f8f1bea"
      },
      "outputs": [
        {
          "output_type": "stream",
          "name": "stdout",
          "text": [
            "[jovian] Detected Colab notebook...\u001b[0m\n",
            "[jovian] jovian.commit() is no longer required on Google Colab. If you ran this notebook from Jovian, \n",
            "then just save this file in Colab using Ctrl+S/Cmd+S and it will be updated on Jovian. \n",
            "Also, you can also delete this cell, it's no longer necessary.\u001b[0m\n"
          ]
        }
      ],
      "source": [
        "jovian.commit(project=project_name, environment=None)"
      ]
    },
    {
      "cell_type": "markdown",
      "metadata": {
        "id": "lZG-iReiL3Bu"
      },
      "source": [
        "## Step 3: Create a Linear Regression Model\n",
        "\n",
        "Our model itself is a fairly straightforward linear regression (we'll build more complex models in the next assignment). \n"
      ]
    },
    {
      "cell_type": "code",
      "execution_count": null,
      "metadata": {
        "id": "Nip5040tL3Bu"
      },
      "outputs": [],
      "source": [
        "input_size = len(input_cols)\n",
        "output_size = len(output_cols)"
      ]
    },
    {
      "cell_type": "markdown",
      "metadata": {
        "id": "Z83O9VxdL3Bu"
      },
      "source": [
        "**Q9: Complete the class definition below by filling out the constructor (`__init__`), `forward`, `training_step` and `validation_step` methods.**\n",
        "\n",
        "Hint: Think carefully about picking a good loss fuction (it's not cross entropy). Maybe try 2-3 of them and see which one works best. See https://pytorch.org/docs/stable/nn.functional.html#loss-functions"
      ]
    },
    {
      "cell_type": "code",
      "execution_count": null,
      "metadata": {
        "id": "e1MCbP1EL3Bv"
      },
      "outputs": [],
      "source": [
        "class InsuranceModel(nn.Module):\n",
        "    def __init__(self):\n",
        "        super().__init__()\n",
        "        self.linear = nn.Linear(input_size, output_size)                  # fill this (hint: use input_size & output_size defined above)\n",
        "        \n",
        "    def forward(self, xb):\n",
        "        out = self.linear(xb)                        # fill this\n",
        "        return out\n",
        "    \n",
        "    def training_step(self, batch):\n",
        "        inputs, targets = batch \n",
        "        # Generate predictions\n",
        "        out = self(inputs)          \n",
        "        # Calcuate loss\n",
        "        loss = F.l1_loss(out, targets)                          # fill this\n",
        "        return loss\n",
        "    \n",
        "    def validation_step(self, batch):\n",
        "        inputs, targets = batch\n",
        "        # Generate predictions\n",
        "        out = self(inputs)\n",
        "        # Calculate loss\n",
        "        loss = F.l1_loss(out, targets)                          # fill this    \n",
        "        return {'val_loss': loss.detach()}\n",
        "        \n",
        "    def validation_epoch_end(self, outputs):\n",
        "        batch_losses = [x['val_loss'] for x in outputs]\n",
        "        epoch_loss = torch.stack(batch_losses).mean()   # Combine losses\n",
        "        return {'val_loss': epoch_loss.item()}\n",
        "    \n",
        "    def epoch_end(self, epoch, result, num_epochs):\n",
        "        # Print result every 20th epoch\n",
        "        if (epoch+1) % 20 == 0 or epoch == num_epochs-1:\n",
        "            print(\"Epoch [{}], val_loss: {:.4f}\".format(epoch+1, result['val_loss']))"
      ]
    },
    {
      "cell_type": "markdown",
      "metadata": {
        "id": "BCCCch2bL3Bv"
      },
      "source": [
        "Let us create a model using the `InsuranceModel` class. You may need to come back later and re-run the next cell to reinitialize the model, in case the loss becomes `nan` or `infinity`."
      ]
    },
    {
      "cell_type": "code",
      "execution_count": null,
      "metadata": {
        "id": "5dr-51h-L3Bv"
      },
      "outputs": [],
      "source": [
        "model = InsuranceModel()"
      ]
    },
    {
      "cell_type": "markdown",
      "metadata": {
        "id": "PhV5rE6_L3Bw"
      },
      "source": [
        "Let's check out the weights and biases of the model using `model.parameters`."
      ]
    },
    {
      "cell_type": "code",
      "execution_count": null,
      "metadata": {
        "id": "u3ySDOS9L3Bx",
        "colab": {
          "base_uri": "https://localhost:8080/"
        },
        "outputId": "b03535eb-90a5-43b0-b1ab-62e116b2505c"
      },
      "outputs": [
        {
          "output_type": "execute_result",
          "data": {
            "text/plain": [
              "[Parameter containing:\n",
              " tensor([[ 0.3614, -0.0618,  0.2149,  0.2312,  0.3857,  0.2274]],\n",
              "        requires_grad=True), Parameter containing:\n",
              " tensor([-0.0250], requires_grad=True)]"
            ]
          },
          "metadata": {},
          "execution_count": 670
        }
      ],
      "source": [
        "list(model.parameters())"
      ]
    },
    {
      "cell_type": "markdown",
      "metadata": {
        "id": "DKmpQawIL3Bx"
      },
      "source": [
        "One final commit before we train the model."
      ]
    },
    {
      "cell_type": "code",
      "execution_count": null,
      "metadata": {
        "id": "_3HCMRv0L3Bx",
        "colab": {
          "base_uri": "https://localhost:8080/"
        },
        "outputId": "72909215-be23-4dd7-d956-b5252b78b372"
      },
      "outputs": [
        {
          "output_type": "stream",
          "name": "stdout",
          "text": [
            "[jovian] Detected Colab notebook...\u001b[0m\n",
            "[jovian] jovian.commit() is no longer required on Google Colab. If you ran this notebook from Jovian, \n",
            "then just save this file in Colab using Ctrl+S/Cmd+S and it will be updated on Jovian. \n",
            "Also, you can also delete this cell, it's no longer necessary.\u001b[0m\n"
          ]
        }
      ],
      "source": [
        "jovian.commit(project=project_name, environment=None)"
      ]
    },
    {
      "cell_type": "markdown",
      "metadata": {
        "id": "h2pL-DnCL3By"
      },
      "source": [
        "## Step 4: Train the model to fit the data\n",
        "\n",
        "To train our model, we'll use the same `fit` function explained in the lecture. That's the benefit of defining a generic training loop - you can use it for any problem."
      ]
    },
    {
      "cell_type": "code",
      "execution_count": null,
      "metadata": {
        "id": "wd1fUnVCL3By"
      },
      "outputs": [],
      "source": [
        "def evaluate(model, val_loader):\n",
        "    outputs = [model.validation_step(batch) for batch in val_loader]\n",
        "    return model.validation_epoch_end(outputs)\n",
        "\n",
        "def fit(epochs, lr, model, train_loader, val_loader, opt_func=torch.optim.SGD):\n",
        "    history = []\n",
        "    optimizer = opt_func(model.parameters(), lr)\n",
        "    for epoch in range(epochs):\n",
        "        # Training Phase \n",
        "        for batch in train_loader:\n",
        "            loss = model.training_step(batch)\n",
        "            loss.backward()\n",
        "            optimizer.step()\n",
        "            optimizer.zero_grad()\n",
        "        # Validation phase\n",
        "        result = evaluate(model, val_loader)\n",
        "        model.epoch_end(epoch, result, epochs)\n",
        "        history.append(result)\n",
        "    return history"
      ]
    },
    {
      "cell_type": "markdown",
      "metadata": {
        "id": "BtmyQphcL3By"
      },
      "source": [
        "**Q10: Use the `evaluate` function to calculate the loss on the validation set before training.**"
      ]
    },
    {
      "cell_type": "code",
      "execution_count": null,
      "metadata": {
        "id": "i8ddzboDL3Bz",
        "colab": {
          "base_uri": "https://localhost:8080/"
        },
        "outputId": "7208c8a2-9a02-4452-e849-e0331bce3a34"
      },
      "outputs": [
        {
          "output_type": "stream",
          "name": "stdout",
          "text": [
            "{'val_loss': 13047.857421875}\n"
          ]
        }
      ],
      "source": [
        "result = evaluate(model, val_loader) # Use the the evaluate function\n",
        "print(result)"
      ]
    },
    {
      "cell_type": "markdown",
      "metadata": {
        "id": "8CHARGAYL3Bz"
      },
      "source": [
        "\n",
        "We are now ready to train the model. You may need to run the training loop many times, for different number of epochs and with different learning rates, to get a good result. Also, if your loss becomes too large (or `nan`), you may have to re-initialize the model by running the cell `model = InsuranceModel()`. Experiment with this for a while, and try to get to as low a loss as possible."
      ]
    },
    {
      "cell_type": "markdown",
      "metadata": {
        "id": "GK33nxG_L3Bz"
      },
      "source": [
        "**Q11: Train the model 4-5 times with different learning rates & for different number of epochs.**\n",
        "\n",
        "Hint: Vary learning rates by orders of 10 (e.g. `1e-2`, `1e-3`, `1e-4`, `1e-5`, `1e-6`) to figure out what works."
      ]
    },
    {
      "cell_type": "code",
      "execution_count": null,
      "metadata": {
        "id": "jgGMpdjFL3Bz",
        "colab": {
          "base_uri": "https://localhost:8080/"
        },
        "outputId": "68f9c9e9-9365-408b-c9b7-8e05f4f5bafc"
      },
      "outputs": [
        {
          "output_type": "stream",
          "name": "stdout",
          "text": [
            "Epoch [5], val_loss: 970947.3750\n"
          ]
        }
      ],
      "source": [
        "epochs = 5\n",
        "lr = 1e-2\n",
        "history1 = fit(epochs, lr, model, train_loader, val_loader)"
      ]
    },
    {
      "cell_type": "code",
      "execution_count": null,
      "metadata": {
        "id": "MC8fijzVL3B0",
        "colab": {
          "base_uri": "https://localhost:8080/"
        },
        "outputId": "107102b3-32aa-4244-e07e-50a51dc244f1"
      },
      "outputs": [
        {
          "output_type": "stream",
          "name": "stdout",
          "text": [
            "Epoch [5], val_loss: 181083.9688\n"
          ]
        }
      ],
      "source": [
        "epochs = 5\n",
        "lr =  1e-3\n",
        "history2 = fit(epochs, lr, model, train_loader, val_loader)"
      ]
    },
    {
      "cell_type": "code",
      "execution_count": null,
      "metadata": {
        "id": "jrXNrhU8L3B0",
        "colab": {
          "base_uri": "https://localhost:8080/"
        },
        "outputId": "b0b820da-a4e0-4cd3-e80f-6828bcc4153b"
      },
      "outputs": [
        {
          "output_type": "stream",
          "name": "stdout",
          "text": [
            "Epoch [5], val_loss: 4961.4907\n"
          ]
        }
      ],
      "source": [
        "epochs = 5\n",
        "lr =  1e-4\n",
        "history3 = fit(epochs, lr, model, train_loader, val_loader)"
      ]
    },
    {
      "cell_type": "code",
      "execution_count": null,
      "metadata": {
        "id": "XtNTZJfsL3B0",
        "colab": {
          "base_uri": "https://localhost:8080/"
        },
        "outputId": "1820e3c1-4597-459e-867d-460fe06af87e"
      },
      "outputs": [
        {
          "output_type": "stream",
          "name": "stdout",
          "text": [
            "Epoch [5], val_loss: 1860.1660\n"
          ]
        }
      ],
      "source": [
        "epochs = 5\n",
        "lr = 1e-5\n",
        "history4 = fit(epochs, lr, model, train_loader, val_loader)"
      ]
    },
    {
      "cell_type": "code",
      "source": [
        "epochs = 5\n",
        "lr = 1e-6\n",
        "history5 = fit(epochs, lr, model, train_loader, val_loader)"
      ],
      "metadata": {
        "colab": {
          "base_uri": "https://localhost:8080/"
        },
        "id": "k8x3gXMb474E",
        "outputId": "5ab6e9be-014f-4496-890e-7266740b42bc"
      },
      "execution_count": null,
      "outputs": [
        {
          "output_type": "stream",
          "name": "stdout",
          "text": [
            "Epoch [5], val_loss: 104.9590\n"
          ]
        }
      ]
    },
    {
      "cell_type": "code",
      "source": [
        "history = [result] + history1  + history2  + history3  + history4 + history5 \n",
        "l1_loss = [result['val_loss'] for result in history]\n",
        "plt.plot(l1_loss, '-x')\n",
        "plt.xlabel('epoch')\n",
        "plt.ylabel('l1_loss')\n",
        "plt.title('L1_loss vs. No. of epochs')"
      ],
      "metadata": {
        "colab": {
          "base_uri": "https://localhost:8080/",
          "height": 312
        },
        "id": "Fm13E3182NU4",
        "outputId": "c972daee-2135-4a57-e482-af7fb983eb66"
      },
      "execution_count": null,
      "outputs": [
        {
          "output_type": "execute_result",
          "data": {
            "text/plain": [
              "Text(0.5, 1.0, 'L1_loss vs. No. of epochs')"
            ]
          },
          "metadata": {},
          "execution_count": 679
        },
        {
          "output_type": "display_data",
          "data": {
            "text/plain": [
              "<Figure size 432x288 with 1 Axes>"
            ],
            "image/png": "[encoded data removed]"
          },
          "metadata": {
            "needs_background": "light"
          }
        }
      ]
    },
    {
      "cell_type": "markdown",
      "metadata": {
        "id": "XQRV2NO0L3B1"
      },
      "source": [
        "**Q12: What is the final validation loss of your model?**"
      ]
    },
    {
      "cell_type": "code",
      "execution_count": null,
      "metadata": {
        "id": "JqpM8gDXL3B1"
      },
      "outputs": [],
      "source": [
        "val_loss = 104.9590"
      ]
    },
    {
      "cell_type": "markdown",
      "metadata": {
        "id": "3AkVWMbqL3B1"
      },
      "source": [
        "Let's log the final validation loss to Jovian and commit the notebook"
      ]
    },
    {
      "cell_type": "code",
      "execution_count": null,
      "metadata": {
        "id": "oxRszD2LL3B1",
        "colab": {
          "base_uri": "https://localhost:8080/"
        },
        "outputId": "295914c9-70c5-4ba2-b88b-311b33bbe735"
      },
      "outputs": [
        {
          "output_type": "stream",
          "name": "stdout",
          "text": [
            "[jovian] Metrics logged.\u001b[0m\n"
          ]
        }
      ],
      "source": [
        "jovian.log_metrics(val_loss=val_loss)"
      ]
    },
    {
      "cell_type": "code",
      "execution_count": null,
      "metadata": {
        "id": "hQTsciANL3B2",
        "colab": {
          "base_uri": "https://localhost:8080/"
        },
        "outputId": "690c48ae-2a13-48dd-bb9d-d1dcea376a7f"
      },
      "outputs": [
        {
          "output_type": "stream",
          "name": "stdout",
          "text": [
            "[jovian] Detected Colab notebook...\u001b[0m\n",
            "[jovian] jovian.commit() is no longer required on Google Colab. If you ran this notebook from Jovian, \n",
            "then just save this file in Colab using Ctrl+S/Cmd+S and it will be updated on Jovian. \n",
            "Also, you can also delete this cell, it's no longer necessary.\u001b[0m\n"
          ]
        }
      ],
      "source": [
        "jovian.commit(project=project_name, environment=None)"
      ]
    },
    {
      "cell_type": "markdown",
      "metadata": {
        "id": "fABrDCJXL3B2"
      },
      "source": [
        "Now scroll back up, re-initialize the model, and try different set of values for batch size, number of epochs, learning rate etc. Commit each experiment and use the \"Compare\" and \"View Diff\" options on Jovian to compare the different results."
      ]
    },
    {
      "cell_type": "markdown",
      "metadata": {
        "id": "WUvhgA_8L3B2"
      },
      "source": [
        "## Step 5: Make predictions using the trained model\n",
        "\n",
        "**Q13: Complete the following function definition to make predictions on a single input**"
      ]
    },
    {
      "cell_type": "code",
      "execution_count": null,
      "metadata": {
        "id": "OZubmynVL3B2"
      },
      "outputs": [],
      "source": [
        "def predict_single(input, target, model):\n",
        "    inputs = input.unsqueeze(0)\n",
        "    predictions = model(input)                # fill this\n",
        "    prediction = predictions[0].detach()\n",
        "    print(\"Input:\", input)\n",
        "    print(\"Target:\", target)\n",
        "    print(\"Prediction:\", prediction)"
      ]
    },
    {
      "cell_type": "code",
      "execution_count": null,
      "metadata": {
        "id": "XXzlxs6RL3B3",
        "colab": {
          "base_uri": "https://localhost:8080/"
        },
        "outputId": "fb152852-f3ff-4866-da5c-72151e133098"
      },
      "outputs": [
        {
          "output_type": "stream",
          "name": "stdout",
          "text": [
            "Input: tensor([3.5000e+01, 1.0000e+00, 2.8455e+01, 1.0000e+00, 0.0000e+00, 5.6007e+03])\n",
            "Target: tensor([5600.6860])\n",
            "Prediction: tensor(5575.3774)\n"
          ]
        }
      ],
      "source": [
        "input, target = val_ds[0]\n",
        "predict_single(input, target, model)"
      ]
    },
    {
      "cell_type": "code",
      "execution_count": null,
      "metadata": {
        "id": "CZo0NUDoL3B3",
        "colab": {
          "base_uri": "https://localhost:8080/"
        },
        "outputId": "f4651a60-ead4-4818-838d-6661576a3583"
      },
      "outputs": [
        {
          "output_type": "stream",
          "name": "stdout",
          "text": [
            "Input: tensor([4.9000e+01, 1.0000e+00, 2.7132e+01, 1.0000e+00, 0.0000e+00, 1.0953e+04])\n",
            "Target: tensor([10953.3271])\n",
            "Prediction: tensor(10894.0098)\n"
          ]
        }
      ],
      "source": [
        "input, target = val_ds[10]\n",
        "predict_single(input, target, model)"
      ]
    },
    {
      "cell_type": "code",
      "execution_count": null,
      "metadata": {
        "id": "HUe3bJbZL3B3",
        "colab": {
          "base_uri": "https://localhost:8080/"
        },
        "outputId": "45bd6162-aae3-49ee-9a38-8bc23b23153f"
      },
      "outputs": [
        {
          "output_type": "stream",
          "name": "stdout",
          "text": [
            "Input: tensor([  40.0000,    0.0000,   37.9995,    0.0000,    0.0000, 6985.7227])\n",
            "Target: tensor([6985.7227])\n",
            "Prediction: tensor(6953.0259)\n"
          ]
        }
      ],
      "source": [
        "input, target = val_ds[23]\n",
        "predict_single(input, target, model)"
      ]
    },
    {
      "cell_type": "markdown",
      "metadata": {
        "id": "f95a8WN2L3B3"
      },
      "source": [
        "Are you happy with your model's predictions? Try to improve them further."
      ]
    },
    {
      "cell_type": "markdown",
      "metadata": {
        "id": "Id_4kyB-L3B4"
      },
      "source": [
        "## (Optional) Step 6: Try another dataset & blog about it\n",
        "\n",
        "While this last step is optional for the submission of your assignment, we highly recommend that you do it. Try to replicate this notebook for a different linear regression or logistic regression problem. This will help solidify your understanding, and give you a chance to differentiate the generic patterns in machine learning from problem-specific details.You can use one of these starer notebooks (just change the dataset):\n",
        "\n",
        "- Linear regression (minimal): https://jovian.ai/aakashns/housing-linear-minimal\n",
        "- Logistic regression (minimal): https://jovian.ai/aakashns/mnist-logistic-minimal\n",
        "\n",
        "Here are some sources to find good datasets:\n",
        "\n",
        "- https://lionbridge.ai/datasets/10-open-datasets-for-linear-regression/\n",
        "- https://www.kaggle.com/rtatman/datasets-for-regression-analysis\n",
        "- https://archive.ics.uci.edu/ml/datasets.php?format=&task=reg&att=&area=&numAtt=&numIns=&type=&sort=nameUp&view=table\n",
        "- https://people.sc.fsu.edu/~jburkardt/datasets/regression/regression.html\n",
        "- https://archive.ics.uci.edu/ml/datasets/wine+quality\n",
        "- https://pytorch.org/docs/stable/torchvision/datasets.html\n",
        "\n",
        "We also recommend that you write a blog about your approach to the problem. Here is a suggested structure for your post (feel free to experiment with it):\n",
        "\n",
        "- Interesting title & subtitle\n",
        "- Overview of what the blog covers (which dataset, linear regression or logistic regression, intro to PyTorch)\n",
        "- Downloading & exploring the data\n",
        "- Preparing the data for training\n",
        "- Creating a model using PyTorch\n",
        "- Training the model to fit the data\n",
        "- Your thoughts on how to experiment with different hyperparmeters to reduce loss\n",
        "- Making predictions using the model\n",
        "\n",
        "As with the previous assignment, you can [embed Juptyer notebook cells & outputs from Jovian](https://medium.com/jovianml/share-and-embed-jupyter-notebooks-online-with-jovian-ml-df709a03064e) into your blog. \n",
        "\n",
        "Don't forget to share your work on the forum: https://jovian.ai/forum/t/linear-regression-and-logistic-regression-notebooks-and-blog-posts/14039"
      ]
    },
    {
      "cell_type": "code",
      "execution_count": null,
      "metadata": {
        "id": "8W7D3nNWL3B4",
        "outputId": "89d20168-e598-4b02-dd25-f2d24b2c9cf9",
        "colab": {
          "base_uri": "https://localhost:8080/"
        }
      },
      "outputs": [
        {
          "output_type": "stream",
          "name": "stdout",
          "text": [
            "[jovian] Detected Colab notebook...\u001b[0m\n",
            "[jovian] jovian.commit() is no longer required on Google Colab. If you ran this notebook from Jovian, \n",
            "then just save this file in Colab using Ctrl+S/Cmd+S and it will be updated on Jovian. \n",
            "Also, you can also delete this cell, it's no longer necessary.\u001b[0m\n",
            "[jovian] Detected Colab notebook...\u001b[0m\n",
            "[jovian] jovian.commit() is no longer required on Google Colab. If you ran this notebook from Jovian, \n",
            "then just save this file in Colab using Ctrl+S/Cmd+S and it will be updated on Jovian. \n",
            "Also, you can also delete this cell, it's no longer necessary.\u001b[0m\n"
          ]
        }
      ],
      "source": [
        "jovian.commit(project=project_name, environment=None)\n",
        "jovian.commit(project=project_name, environment=None) # try again, kaggle fails sometimes"
      ]
    },
    {
      "cell_type": "code",
      "execution_count": null,
      "metadata": {
        "id": "RkumzsXlL3B5"
      },
      "outputs": [],
      "source": []
    }
  ],
  "metadata": {
    "colab": {
      "provenance": [],
      "toc_visible": true,
      "collapsed_sections": [
        "Id_4kyB-L3B4"
      ]
    },
    "kernelspec": {
      "display_name": "Python 3 (ipykernel)",
      "language": "python",
      "name": "python3"
    },
    "language_info": {
      "codemirror_mode": {
        "name": "ipython",
        "version": 3
      },
      "file_extension": ".py",
      "mimetype": "text/x-python",
      "name": "python",
      "nbconvert_exporter": "python",
      "pygments_lexer": "ipython3",
      "version": "3.9.6"
    }
  },
  "nbformat": 4,
  "nbformat_minor": 0
}