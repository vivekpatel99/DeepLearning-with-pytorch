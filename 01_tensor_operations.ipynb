{
  "cells": [
    {
      "cell_type": "markdown",
      "metadata": {
        "id": "ZXwhxxYAYugO"
      },
      "source": [
        "# My Top 5 PyTorch favorite functions\n",
        "\n",
        "An short introduction about PyTorch and about the chosen functions. \n",
        "\n",
        "- function 1 - TORCH.DEG2RAD\n",
        "- function 2 - TORCH.DIV\n",
        "- function 3 - TORCH.NAN_TO_NUM\n",
        "- function 4 - TORCH.POW\n",
        "- function 5 - TORCH.ARGMAX\n",
        "\n",
        "Before we begin, let's install and import PyTorch"
      ]
    },
    {
      "cell_type": "code",
      "execution_count": null,
      "metadata": {
        "id": "1wxIHkk-YugP"
      },
      "outputs": [],
      "source": [
        "# Uncomment and run the appropriate command for your operating system, if required\n",
        "\n",
        "# Linux / Binder\n",
        "# !pip install numpy torch==1.7.0+cpu torchvision==0.8.1+cpu torchaudio==0.7.0 -f https://download.pytorch.org/whl/torch_stable.html\n",
        "\n",
        "# Windows\n",
        "# !pip install numpy torch==1.7.0+cpu torchvision==0.8.1+cpu torchaudio==0.7.0 -f https://download.pytorch.org/whl/torch_stable.html\n",
        "\n",
        "# MacOS\n",
        "# !pip install numpy torch torchvision torchaudio"
      ]
    },
    {
      "cell_type": "code",
      "execution_count": null,
      "metadata": {
        "id": "ez5l8L_0YugQ"
      },
      "outputs": [],
      "source": [
        "# Import torch and other required modules\n",
        "import torch"
      ]
    },
    {
      "cell_type": "markdown",
      "metadata": {
        "id": "43oguUYAYugQ"
      },
      "source": [
        "## Function 1 - TORCH.DEG2RAD\n",
        "\n",
        "The function converts tensor with degrees into radiants"
      ]
    },
    {
      "cell_type": "code",
      "execution_count": null,
      "metadata": {
        "id": "m7ppUTatYugR",
        "outputId": "0fb4414d-45a6-4dc5-df62-7a38b3c674a4",
        "colab": {
          "base_uri": "https://localhost:8080/"
        }
      },
      "outputs": [
        {
          "output_type": "execute_result",
          "data": {
            "text/plain": [
              "tensor([[ 0.5236, -0.7854],\n",
              "        [ 3.1416, -6.1087]])"
            ]
          },
          "metadata": {},
          "execution_count": 62
        }
      ],
      "source": [
        "deg = torch.tensor([[30, -45], [180, -350.]])\n",
        "torch.deg2rad(deg)"
      ]
    },
    {
      "cell_type": "markdown",
      "metadata": {
        "id": "1eposMDcYugS"
      },
      "source": [
        "As you can see 30 degree angle is converted into 0.5235 radians and so on."
      ]
    },
    {
      "cell_type": "code",
      "execution_count": null,
      "metadata": {
        "id": "kIlh-DnVYugS",
        "colab": {
          "base_uri": "https://localhost:8080/"
        },
        "outputId": "9274e981-1949-4054-e0ac-40ddad6cffcf"
      },
      "outputs": [
        {
          "output_type": "execute_result",
          "data": {
            "text/plain": [
              "tensor([[ 3.1416, -0.1745],\n",
              "        [ 1.5708, -3.1416],\n",
              "        [ 2.0944, -1.3963]])"
            ]
          },
          "metadata": {},
          "execution_count": 63
        }
      ],
      "source": [
        "deg2 = torch.tensor([[180, -10], [90, -180], [120, -80]])\n",
        "torch.deg2rad(deg2)"
      ]
    },
    {
      "cell_type": "markdown",
      "metadata": {
        "id": "dCfgAGF6YugT"
      },
      "source": [
        "here we have give 3 dimential matrix as tensor with angles and it converted all the angles values into radians"
      ]
    },
    {
      "cell_type": "code",
      "execution_count": null,
      "metadata": {
        "id": "CdLtWAZuYugT",
        "outputId": "7c425cf0-a35c-439e-99ed-262ea9eeaca7",
        "colab": {
          "base_uri": "https://localhost:8080/",
          "height": 183
        }
      },
      "outputs": [
        {
          "output_type": "error",
          "ename": "ValueError",
          "evalue": "ignored",
          "traceback": [
            "\u001b[0;31m---------------------------------------------------------------------------\u001b[0m",
            "\u001b[0;31mValueError\u001b[0m                                Traceback (most recent call last)",
            "\u001b[0;32m<ipython-input-64-b8aea0ff9b79>\u001b[0m in \u001b[0;36m<module>\u001b[0;34m\u001b[0m\n\u001b[0;32m----> 1\u001b[0;31m \u001b[0mdeg3\u001b[0m \u001b[0;34m=\u001b[0m \u001b[0mtorch\u001b[0m\u001b[0;34m.\u001b[0m\u001b[0mtensor\u001b[0m\u001b[0;34m(\u001b[0m\u001b[0;34m[\u001b[0m\u001b[0;34m[\u001b[0m\u001b[0;36m180\u001b[0m\u001b[0;34m,\u001b[0m \u001b[0;34m-\u001b[0m\u001b[0;36m10\u001b[0m\u001b[0;34m]\u001b[0m\u001b[0;34m,\u001b[0m \u001b[0;34m[\u001b[0m\u001b[0;36m90\u001b[0m\u001b[0;34m,\u001b[0m \u001b[0;34m-\u001b[0m\u001b[0;36m180\u001b[0m\u001b[0;34m]\u001b[0m\u001b[0;34m,\u001b[0m \u001b[0;34m[\u001b[0m\u001b[0;36m120\u001b[0m\u001b[0;34m]\u001b[0m\u001b[0;34m]\u001b[0m\u001b[0;34m)\u001b[0m\u001b[0;34m\u001b[0m\u001b[0;34m\u001b[0m\u001b[0m\n\u001b[0m\u001b[1;32m      2\u001b[0m \u001b[0mtorch\u001b[0m\u001b[0;34m.\u001b[0m\u001b[0mdeg2rad\u001b[0m\u001b[0;34m(\u001b[0m\u001b[0mdeg3\u001b[0m\u001b[0;34m)\u001b[0m\u001b[0;34m\u001b[0m\u001b[0;34m\u001b[0m\u001b[0m\n",
            "\u001b[0;31mValueError\u001b[0m: expected sequence of length 2 at dim 1 (got 1)"
          ]
        }
      ],
      "source": [
        "deg3 = torch.tensor([[180, -10], [90, -180], [120]])\n",
        "torch.deg2rad(deg3)"
      ]
    },
    {
      "cell_type": "markdown",
      "metadata": {
        "id": "pTBIAt4PYugT"
      },
      "source": [
        "it can convert only proper shape tensor matrix to radians"
      ]
    },
    {
      "cell_type": "markdown",
      "metadata": {
        "id": "ElfyLpgbYugU"
      },
      "source": [
        "Closing comments about when to use this function\n",
        "* This is really useful function when we want to quickly convert the degrees to radians"
      ]
    },
    {
      "cell_type": "markdown",
      "metadata": {
        "id": "QR7qHnGFYugU"
      },
      "source": [
        "Let's save our work using Jovian before continuing."
      ]
    },
    {
      "cell_type": "code",
      "execution_count": null,
      "metadata": {
        "id": "lTd94sJ9YugU"
      },
      "outputs": [],
      "source": [
        "!pip install jovian --upgrade --quiet"
      ]
    },
    {
      "cell_type": "code",
      "execution_count": null,
      "metadata": {
        "id": "gLpa9rQ9YugV"
      },
      "outputs": [],
      "source": [
        "import jovian"
      ]
    },
    {
      "cell_type": "code",
      "execution_count": null,
      "metadata": {
        "id": "dXkeIOtWYugV",
        "outputId": "24d02d20-195c-4907-932c-107d69beadf0",
        "colab": {
          "base_uri": "https://localhost:8080/"
        }
      },
      "outputs": [
        {
          "output_type": "stream",
          "name": "stdout",
          "text": [
            "[jovian] Detected Colab notebook...\u001b[0m\n",
            "[jovian] jovian.commit() is no longer required on Google Colab. If you ran this notebook from Jovian, \n",
            "then just save this file in Colab using Ctrl+S/Cmd+S and it will be updated on Jovian. \n",
            "Also, you can also delete this cell, it's no longer necessary.\u001b[0m\n"
          ]
        }
      ],
      "source": [
        "jovian.commit(project='01-tensor-operations')"
      ]
    },
    {
      "cell_type": "markdown",
      "metadata": {
        "id": "uacuh1Z6YugV"
      },
      "source": [
        "## Function 2 - TORCH.DIV\n",
        "\n",
        "The function divided all the elements of tensor by give value"
      ]
    },
    {
      "cell_type": "code",
      "execution_count": null,
      "metadata": {
        "id": "WCYz1Z82YugW",
        "colab": {
          "base_uri": "https://localhost:8080/"
        },
        "outputId": "ff3bf7ea-72a9-4e8b-c4b1-f6093071d4fe"
      },
      "outputs": [
        {
          "output_type": "execute_result",
          "data": {
            "text/plain": [
              "tensor([[  3.0000,  -4.5000],\n",
              "        [ 18.0000, -35.0000]])"
            ]
          },
          "metadata": {},
          "execution_count": 68
        }
      ],
      "source": [
        "t1 = torch.tensor([[30, -45], [180, -350.]])\n",
        "torch.div(t1, 10)"
      ]
    },
    {
      "cell_type": "markdown",
      "metadata": {
        "id": "vOO81oFrYugW"
      },
      "source": [
        "As we can see that all the elements of tensor are divided by given (10) value"
      ]
    },
    {
      "cell_type": "code",
      "execution_count": null,
      "metadata": {
        "id": "GOZL8G1gYugW",
        "colab": {
          "base_uri": "https://localhost:8080/"
        },
        "outputId": "b68962a5-e880-4e8d-a908-f3b9f231cc60"
      },
      "outputs": [
        {
          "output_type": "execute_result",
          "data": {
            "text/plain": [
              "tensor([[inf, -inf],\n",
              "        [inf, -inf],\n",
              "        [inf, -inf]])"
            ]
          },
          "metadata": {},
          "execution_count": 69
        }
      ],
      "source": [
        "t2 = torch.tensor([[180, -10], [90, -180], [120, -80]])\n",
        "torch.div(t2, 0)"
      ]
    },
    {
      "cell_type": "markdown",
      "metadata": {
        "id": "raxgJt7tYugW"
      },
      "source": [
        "with 3D tensor matrix, it has divided all the elements with 0 value, without any div by zero error."
      ]
    },
    {
      "cell_type": "code",
      "execution_count": null,
      "metadata": {
        "id": "1uWfl9h5YugX",
        "colab": {
          "base_uri": "https://localhost:8080/",
          "height": 183
        },
        "outputId": "63df5094-4773-467b-cbd2-59e6fb6cdf92"
      },
      "outputs": [
        {
          "output_type": "error",
          "ename": "ValueError",
          "evalue": "ignored",
          "traceback": [
            "\u001b[0;31m---------------------------------------------------------------------------\u001b[0m",
            "\u001b[0;31mValueError\u001b[0m                                Traceback (most recent call last)",
            "\u001b[0;32m<ipython-input-70-48eec4fecf0d>\u001b[0m in \u001b[0;36m<module>\u001b[0;34m\u001b[0m\n\u001b[0;32m----> 1\u001b[0;31m \u001b[0mt3\u001b[0m \u001b[0;34m=\u001b[0m \u001b[0mtorch\u001b[0m\u001b[0;34m.\u001b[0m\u001b[0mtensor\u001b[0m\u001b[0;34m(\u001b[0m\u001b[0;34m[\u001b[0m\u001b[0;34m[\u001b[0m\u001b[0;36m180\u001b[0m\u001b[0;34m,\u001b[0m \u001b[0;34m-\u001b[0m\u001b[0;36m10\u001b[0m\u001b[0;34m]\u001b[0m\u001b[0;34m,\u001b[0m \u001b[0;34m[\u001b[0m\u001b[0;36m90\u001b[0m\u001b[0;34m,\u001b[0m \u001b[0;34m-\u001b[0m\u001b[0;36m180\u001b[0m\u001b[0;34m]\u001b[0m\u001b[0;34m,\u001b[0m \u001b[0;34m[\u001b[0m\u001b[0;36m120\u001b[0m\u001b[0;34m]\u001b[0m\u001b[0;34m]\u001b[0m\u001b[0;34m)\u001b[0m\u001b[0;34m\u001b[0m\u001b[0;34m\u001b[0m\u001b[0m\n\u001b[0m\u001b[1;32m      2\u001b[0m \u001b[0mtorch\u001b[0m\u001b[0;34m.\u001b[0m\u001b[0mdiv\u001b[0m\u001b[0;34m(\u001b[0m\u001b[0mt3\u001b[0m\u001b[0;34m,\u001b[0m \u001b[0;36m0\u001b[0m\u001b[0;34m)\u001b[0m\u001b[0;34m\u001b[0m\u001b[0;34m\u001b[0m\u001b[0m\n",
            "\u001b[0;31mValueError\u001b[0m: expected sequence of length 2 at dim 1 (got 1)"
          ]
        }
      ],
      "source": [
        "t3 = torch.tensor([[180, -10], [90, -180], [120]])\n",
        "torch.div(t3, 0)"
      ]
    },
    {
      "cell_type": "markdown",
      "metadata": {
        "id": "_2LSD6axYugX"
      },
      "source": [
        "It needs proper shape tensor to work."
      ]
    },
    {
      "cell_type": "markdown",
      "metadata": {
        "id": "4pGLdfnKYugX"
      },
      "source": [
        "Closing comments about when to use this function\n",
        "* We can quickly divide all the elements of tensor with given value\n",
        "* We have to give proper size tensor matrix"
      ]
    },
    {
      "cell_type": "code",
      "execution_count": null,
      "metadata": {
        "id": "1hfnFx2KYugX"
      },
      "outputs": [],
      "source": [
        "jovian.commit(project='01-tensor-operations')"
      ]
    },
    {
      "cell_type": "markdown",
      "metadata": {
        "id": "xk8wfeQ4YugY"
      },
      "source": [
        "## Function 3 - TORCH.NAN_TO_NUM\n",
        "\n",
        "It converts nan/poss inf /neg inf values to given number"
      ]
    },
    {
      "cell_type": "code",
      "execution_count": null,
      "metadata": {
        "id": "R0T6-hB6YugY"
      },
      "outputs": [],
      "source": [
        "import numpy as np\n",
        "t1 = torch.tensor([[30, -45], [180, np.nan]])\n",
        "t1"
      ]
    },
    {
      "cell_type": "code",
      "source": [
        "torch.nan_to_num(t1, 1)"
      ],
      "metadata": {
        "id": "umkeVGvS_BJp"
      },
      "execution_count": null,
      "outputs": []
    },
    {
      "cell_type": "markdown",
      "metadata": {
        "id": "nvaX3wU_YugY"
      },
      "source": [
        "As we can see it has replace nan value with 1"
      ]
    },
    {
      "cell_type": "code",
      "execution_count": null,
      "metadata": {
        "id": "M5Be5ZgqYugY"
      },
      "outputs": [],
      "source": [
        "t2 = torch.tensor([[np.nan, -10], [90, float('inf')], [120, -float('inf')]])\n",
        "torch.nan_to_num(t2)"
      ]
    },
    {
      "cell_type": "markdown",
      "metadata": {
        "id": "E55BwT29YugZ"
      },
      "source": [
        "As we can see here, it has replace \n",
        "* nan -> 0\n",
        "* inf -> very large number/max datatype number\n",
        "* -inf -> very small number/min datatype nummber"
      ]
    },
    {
      "cell_type": "code",
      "execution_count": null,
      "metadata": {
        "id": "YWDQNj2gYugZ"
      },
      "outputs": [],
      "source": [
        "t3 = torch.tensor([[np.nan, -10], [90, 'inf'], [120, -float('inf')]])\n",
        "torch.nan_to_num(t3)"
      ]
    },
    {
      "cell_type": "markdown",
      "metadata": {
        "id": "AJox5dwmYugZ"
      },
      "source": [
        "* It does not take str as inf, we have to give float('inf') in tensor matrix"
      ]
    },
    {
      "cell_type": "markdown",
      "metadata": {
        "id": "hBIU5nXoYugZ"
      },
      "source": [
        "Closing comments about when to use this function\n",
        "* Very useful function to convert/replace all the nan values with required values in large matrix\n",
        "* It can be use as imputer (from ML scikit learn)\n"
      ]
    },
    {
      "cell_type": "code",
      "execution_count": null,
      "metadata": {
        "id": "Pm1x8Kz5Yuga",
        "outputId": "0df3e5d2-e54f-4832-dc1e-af1551f13d6f",
        "colab": {
          "base_uri": "https://localhost:8080/"
        }
      },
      "outputs": [
        {
          "output_type": "stream",
          "name": "stdout",
          "text": [
            "[jovian] Detected Colab notebook...\u001b[0m\n",
            "[jovian] jovian.commit() is no longer required on Google Colab. If you ran this notebook from Jovian, \n",
            "then just save this file in Colab using Ctrl+S/Cmd+S and it will be updated on Jovian. \n",
            "Also, you can also delete this cell, it's no longer necessary.\u001b[0m\n"
          ]
        }
      ],
      "source": [
        "jovian.commit(project='01-tensor-operations')"
      ]
    },
    {
      "cell_type": "markdown",
      "metadata": {
        "id": "VclOomLkYuga"
      },
      "source": [
        "## Function 4 - TORCH.POW\n",
        "\n",
        "it convert the values from tensor to the power given in the functions"
      ]
    },
    {
      "cell_type": "code",
      "execution_count": null,
      "metadata": {
        "id": "0yt7fcEFYuga",
        "colab": {
          "base_uri": "https://localhost:8080/"
        },
        "outputId": "f2c51724-2313-4672-85ae-362fb66908dc"
      },
      "outputs": [
        {
          "output_type": "execute_result",
          "data": {
            "text/plain": [
              "tensor([[5.9049e+14, 3.4051e+16],\n",
              "        [3.5705e+22, 2.7585e+25]])"
            ]
          },
          "metadata": {},
          "execution_count": 72
        }
      ],
      "source": [
        "t1 = torch.tensor([[30, -45], [180, -350.]])\n",
        "torch.pow(t1, 10)"
      ]
    },
    {
      "cell_type": "markdown",
      "metadata": {
        "id": "pdamUX-wYuga"
      },
      "source": [
        "As we can see it has convert each values of tensor into given power in the .pow function"
      ]
    },
    {
      "cell_type": "code",
      "execution_count": null,
      "metadata": {
        "id": "5Hzx43BLYuga",
        "colab": {
          "base_uri": "https://localhost:8080/"
        },
        "outputId": "ea8c9399-e918-4f12-c673-f4031358383a"
      },
      "outputs": [
        {
          "output_type": "execute_result",
          "data": {
            "text/plain": [
              "tensor([[ 188956800000,       -100000],\n",
              "        [   5904900000, -188956800000],\n",
              "        [  24883200000,   -3276800000]])"
            ]
          },
          "metadata": {},
          "execution_count": 73
        }
      ],
      "source": [
        "t2 = torch.tensor([[180, -10], [90, -180], [120, -80]])\n",
        "torch.pow(t2, 5)"
      ]
    },
    {
      "cell_type": "markdown",
      "metadata": {
        "id": "e-yZyNy6Yugb"
      },
      "source": [
        "it has converted each value in tensor with given power 5"
      ]
    },
    {
      "cell_type": "code",
      "execution_count": null,
      "metadata": {
        "id": "A0MlRabbYugb",
        "colab": {
          "base_uri": "https://localhost:8080/",
          "height": 183
        },
        "outputId": "23209919-673a-47b9-b899-b5c7a3681a93"
      },
      "outputs": [
        {
          "output_type": "error",
          "ename": "ValueError",
          "evalue": "ignored",
          "traceback": [
            "\u001b[0;31m---------------------------------------------------------------------------\u001b[0m",
            "\u001b[0;31mValueError\u001b[0m                                Traceback (most recent call last)",
            "\u001b[0;32m<ipython-input-74-f8dc3fea342c>\u001b[0m in \u001b[0;36m<module>\u001b[0;34m\u001b[0m\n\u001b[0;32m----> 1\u001b[0;31m \u001b[0mt3\u001b[0m \u001b[0;34m=\u001b[0m \u001b[0mtorch\u001b[0m\u001b[0;34m.\u001b[0m\u001b[0mtensor\u001b[0m\u001b[0;34m(\u001b[0m\u001b[0;34m[\u001b[0m\u001b[0;34m[\u001b[0m\u001b[0;36m180\u001b[0m\u001b[0;34m,\u001b[0m \u001b[0;34m-\u001b[0m\u001b[0;36m10\u001b[0m\u001b[0;34m]\u001b[0m\u001b[0;34m,\u001b[0m \u001b[0;34m[\u001b[0m\u001b[0;36m90\u001b[0m\u001b[0;34m,\u001b[0m \u001b[0;34m-\u001b[0m\u001b[0;36m180\u001b[0m\u001b[0;34m]\u001b[0m\u001b[0;34m,\u001b[0m \u001b[0;34m[\u001b[0m\u001b[0;36m120\u001b[0m\u001b[0;34m,\u001b[0m\u001b[0;34m]\u001b[0m\u001b[0;34m]\u001b[0m\u001b[0;34m)\u001b[0m\u001b[0;34m\u001b[0m\u001b[0;34m\u001b[0m\u001b[0m\n\u001b[0m\u001b[1;32m      2\u001b[0m \u001b[0mtorch\u001b[0m\u001b[0;34m.\u001b[0m\u001b[0mpow\u001b[0m\u001b[0;34m(\u001b[0m\u001b[0mt3\u001b[0m\u001b[0;34m,\u001b[0m \u001b[0;36m0.01\u001b[0m\u001b[0;34m)\u001b[0m\u001b[0;34m\u001b[0m\u001b[0;34m\u001b[0m\u001b[0m\n",
            "\u001b[0;31mValueError\u001b[0m: expected sequence of length 2 at dim 1 (got 1)"
          ]
        }
      ],
      "source": [
        "t3 = torch.tensor([[180, -10], [90, -180], [120,]])\n",
        "torch.pow(t3, 0.01)"
      ]
    },
    {
      "cell_type": "markdown",
      "metadata": {
        "id": "ifOIXjNkYugb"
      },
      "source": [
        "It need proper shape of tensor matrix"
      ]
    },
    {
      "cell_type": "markdown",
      "metadata": {
        "id": "DXMgad0dYugb"
      },
      "source": [
        "Closing comments about when to use this function\n",
        "* quick way to convert all the elements from tensor to the give power"
      ]
    },
    {
      "cell_type": "code",
      "execution_count": null,
      "metadata": {
        "id": "SxyJVjGxYugc",
        "outputId": "7e08b596-dcf8-427a-867d-1a21114fbec7",
        "colab": {
          "base_uri": "https://localhost:8080/"
        }
      },
      "outputs": [
        {
          "output_type": "stream",
          "name": "stdout",
          "text": [
            "[jovian] Detected Colab notebook...\u001b[0m\n",
            "[jovian] jovian.commit() is no longer required on Google Colab. If you ran this notebook from Jovian, \n",
            "then just save this file in Colab using Ctrl+S/Cmd+S and it will be updated on Jovian. \n",
            "Also, you can also delete this cell, it's no longer necessary.\u001b[0m\n"
          ]
        }
      ],
      "source": [
        "jovian.commit(project='01-tensor-operations')"
      ]
    },
    {
      "cell_type": "markdown",
      "metadata": {
        "id": "D80iRz7EYugc"
      },
      "source": [
        "## Function 5 - TORCH.ARGMAX\n",
        "\n",
        " Return index of max value from all elements from tensor"
      ]
    },
    {
      "cell_type": "code",
      "execution_count": null,
      "metadata": {
        "id": "vHV-GqILYugc",
        "colab": {
          "base_uri": "https://localhost:8080/"
        },
        "outputId": "2fe57fbd-cf0a-424e-bca3-f11430475363"
      },
      "outputs": [
        {
          "output_type": "execute_result",
          "data": {
            "text/plain": [
              "(tensor(2), tensor(180.))"
            ]
          },
          "metadata": {},
          "execution_count": 76
        }
      ],
      "source": [
        "t1 = torch.tensor([[30, -45], [180, -350.]])\n",
        "torch.argmax(t1), torch.max(t1)"
      ]
    },
    {
      "cell_type": "markdown",
      "metadata": {
        "id": "Pzn4ttnHYugc"
      },
      "source": [
        "As we can see that it has return index of max value and we can conform it with torch.max function"
      ]
    },
    {
      "cell_type": "code",
      "execution_count": null,
      "metadata": {
        "id": "NtbO4u8vYugc",
        "colab": {
          "base_uri": "https://localhost:8080/"
        },
        "outputId": "6adbf119-00a5-460f-b3d1-cd390e77a132"
      },
      "outputs": [
        {
          "output_type": "execute_result",
          "data": {
            "text/plain": [
              "tensor([[0.5977, 0.7431, 0.7518],\n",
              "        [0.4048, 0.1597, 0.8834],\n",
              "        [0.5572, 0.6764, 0.8452]])"
            ]
          },
          "metadata": {},
          "execution_count": 77
        }
      ],
      "source": [
        "t2= torch.rand(3, 3)\n",
        "t2"
      ]
    },
    {
      "cell_type": "code",
      "source": [
        "torch.argmax(t2), torch.max(t3)"
      ],
      "metadata": {
        "colab": {
          "base_uri": "https://localhost:8080/"
        },
        "id": "t-2LwppGCkHs",
        "outputId": "e3c6be16-cb48-4f64-b03d-eb372934f59b"
      },
      "execution_count": null,
      "outputs": [
        {
          "output_type": "execute_result",
          "data": {
            "text/plain": [
              "(tensor(5), tensor(180))"
            ]
          },
          "metadata": {},
          "execution_count": 78
        }
      ]
    },
    {
      "cell_type": "markdown",
      "metadata": {
        "id": "8qEHKg8_Yugd"
      },
      "source": [
        "As we can it has return index of max value from the tensor matrix, we can easily verfiy it using torch.max function\n"
      ]
    },
    {
      "cell_type": "code",
      "execution_count": null,
      "metadata": {
        "id": "9VBceJTbYugd",
        "colab": {
          "base_uri": "https://localhost:8080/",
          "height": 183
        },
        "outputId": "341a2235-ab56-4734-91e5-4edfbf349fcc"
      },
      "outputs": [
        {
          "output_type": "error",
          "ename": "TypeError",
          "evalue": "ignored",
          "traceback": [
            "\u001b[0;31m---------------------------------------------------------------------------\u001b[0m",
            "\u001b[0;31mTypeError\u001b[0m                                 Traceback (most recent call last)",
            "\u001b[0;32m<ipython-input-79-4e74209cefbe>\u001b[0m in \u001b[0;36m<module>\u001b[0;34m\u001b[0m\n\u001b[0;32m----> 1\u001b[0;31m \u001b[0mt3\u001b[0m \u001b[0;34m=\u001b[0m \u001b[0mtorch\u001b[0m\u001b[0;34m.\u001b[0m\u001b[0mtensor\u001b[0m\u001b[0;34m(\u001b[0m\u001b[0;34m[\u001b[0m\u001b[0;34m[\u001b[0m\u001b[0;36m180\u001b[0m\u001b[0;34m,\u001b[0m \u001b[0;34m-\u001b[0m\u001b[0;36m10\u001b[0m\u001b[0;34m]\u001b[0m\u001b[0;34m,\u001b[0m \u001b[0;34m[\u001b[0m\u001b[0;36m90\u001b[0m\u001b[0;34m,\u001b[0m \u001b[0;34m-\u001b[0m\u001b[0;36m180\u001b[0m\u001b[0;34m]\u001b[0m\u001b[0;34m,\u001b[0m \u001b[0;34m[\u001b[0m\u001b[0;36m120\u001b[0m\u001b[0;34m,\u001b[0m \u001b[0;34m'k'\u001b[0m\u001b[0;34m]\u001b[0m\u001b[0;34m]\u001b[0m\u001b[0;34m)\u001b[0m\u001b[0;34m\u001b[0m\u001b[0;34m\u001b[0m\u001b[0m\n\u001b[0m\u001b[1;32m      2\u001b[0m \u001b[0mtorch\u001b[0m\u001b[0;34m.\u001b[0m\u001b[0margmax\u001b[0m\u001b[0;34m(\u001b[0m\u001b[0mt3\u001b[0m\u001b[0;34m)\u001b[0m\u001b[0;34m\u001b[0m\u001b[0;34m\u001b[0m\u001b[0m\n",
            "\u001b[0;31mTypeError\u001b[0m: new(): invalid data type 'str'"
          ]
        }
      ],
      "source": [
        "t3 = torch.tensor([[180, -10], [90, -180], [120, 'k']])\n",
        "torch.argmax(t3)\n"
      ]
    },
    {
      "cell_type": "markdown",
      "metadata": {
        "id": "iO_ksq1HYugd"
      },
      "source": [
        "all the value of tensor must be numbers, string does not work"
      ]
    },
    {
      "cell_type": "markdown",
      "metadata": {
        "id": "ZMZwq5byYugd"
      },
      "source": [
        "Closing comments about when to use this function\n",
        "* very useful function when we want to find index of max value not actualy max value"
      ]
    },
    {
      "cell_type": "code",
      "execution_count": null,
      "metadata": {
        "id": "7UHFgaydYuge"
      },
      "outputs": [],
      "source": [
        "jovian.commit(project='01-tensor-operations')"
      ]
    },
    {
      "cell_type": "markdown",
      "metadata": {
        "id": "fewzLWCaYuge"
      },
      "source": [
        "## Conclusion\n",
        "\n",
        "* 5 functions of pytorch are covered in this book\n",
        "    function 1 - TORCH.DEG2RAD\n",
        "    function 2 - TORCH.DIV\n",
        "    function 3 - TORCH.NAN_TO_NUM\n",
        "    function 4 - TORCH.POW\n",
        "    function 5 - TORCH.ARGMAX \n",
        "* most error occures with shape of of tensor, we need to keep in mind about propoer matrix shape \n",
        "* torch has really amazing documentation\n",
        "* we can easily search for operation which we want to perform on matrix and we can find possible operations/functions from documentation\n"
      ]
    },
    {
      "cell_type": "markdown",
      "metadata": {
        "id": "_QZnRQ2TYuge"
      },
      "source": [
        "## Reference Links\n",
        "Provide links to your references and other interesting articles about tensors\n",
        "* Official documentation for tensor operations: https://pytorch.org/docs/stable/torch.html\n",
        "* ..."
      ]
    },
    {
      "cell_type": "code",
      "execution_count": null,
      "metadata": {
        "id": "DWuxgEHVYuge",
        "outputId": "5cf8e41b-d914-491c-a3d6-0ecd83843de9",
        "colab": {
          "base_uri": "https://localhost:8080/"
        }
      },
      "outputs": [
        {
          "output_type": "stream",
          "name": "stdout",
          "text": [
            "[jovian] Detected Colab notebook...\u001b[0m\n",
            "[jovian] jovian.commit() is no longer required on Google Colab. If you ran this notebook from Jovian, \n",
            "then just save this file in Colab using Ctrl+S/Cmd+S and it will be updated on Jovian. \n",
            "Also, you can also delete this cell, it's no longer necessary.\u001b[0m\n"
          ]
        }
      ],
      "source": [
        "jovian.commit(project='01-tensor-operations')"
      ]
    },
    {
      "cell_type": "code",
      "execution_count": null,
      "metadata": {
        "id": "uT1xKaOJYugf"
      },
      "outputs": [],
      "source": []
    }
  ],
  "metadata": {
    "colab": {
      "provenance": []
    },
    "kernelspec": {
      "display_name": "Python 3",
      "language": "python",
      "name": "python3"
    },
    "language_info": {
      "codemirror_mode": {
        "name": "ipython",
        "version": 3
      },
      "file_extension": ".py",
      "mimetype": "text/x-python",
      "name": "python",
      "nbconvert_exporter": "python",
      "pygments_lexer": "ipython3",
      "version": "3.8.5"
    }
  },
  "nbformat": 4,
  "nbformat_minor": 0
}